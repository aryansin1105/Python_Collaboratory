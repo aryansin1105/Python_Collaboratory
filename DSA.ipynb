{
  "nbformat": 4,
  "nbformat_minor": 0,
  "metadata": {
    "colab": {
      "provenance": [],
      "toc_visible": true,
      "authorship_tag": "ABX9TyPZvV4FrIstkmcExCdHDpGD",
      "include_colab_link": true
    },
    "kernelspec": {
      "name": "python3",
      "display_name": "Python 3"
    },
    "language_info": {
      "name": "python"
    }
  },
  "cells": [
    {
      "cell_type": "markdown",
      "metadata": {
        "id": "view-in-github",
        "colab_type": "text"
      },
      "source": [
        "<a href=\"https://colab.research.google.com/github/aryansin1105/Python_Collaboratory/blob/main/DSA.ipynb\" target=\"_parent\"><img src=\"https://colab.research.google.com/assets/colab-badge.svg\" alt=\"Open In Colab\"/></a>"
      ]
    },
    {
      "cell_type": "markdown",
      "source": [
        "# Bubble Sort"
      ],
      "metadata": {
        "id": "s7bzs1hXnR4N"
      }
    },
    {
      "cell_type": "code",
      "source": [
        "# Bubble Sort is an algorithm that sorts an array from the lowest value to the highest value.\n",
        "\n",
        "def BubbleSort(arr):\n",
        "  for i in range(len(arr)-1):\n",
        "    for j in range(len(arr)-i-1):\n",
        "      if arr[j]>arr[j+1]:\n",
        "        arr[j],arr[j+1] = arr[j+1],arr[j]\n",
        "  return arr\n",
        "n = int(input())\n",
        "arr = list()\n",
        "for i in range(n):\n",
        "  arr.append(int(input()))\n",
        "print(\"Non Sorted : \",arr)\n",
        "print(\"Sorted : \",BubbleSort(arr))\n",
        "\n",
        "# Time Complexity : O(n*n)"
      ],
      "metadata": {
        "id": "ICGovpBznYYv",
        "colab": {
          "base_uri": "https://localhost:8080/"
        },
        "outputId": "5cfd0f2c-18bd-4ef7-dc5e-b6f723e58fb9"
      },
      "execution_count": null,
      "outputs": [
        {
          "output_type": "stream",
          "name": "stdout",
          "text": [
            "6\n",
            "5\n",
            "4\n",
            "3\n",
            "8\n",
            "1\n",
            "7\n",
            "Non Sorted :  [5, 4, 3, 8, 1, 7]\n",
            "Sorted :  [1, 3, 4, 5, 7, 8]\n"
          ]
        }
      ]
    },
    {
      "cell_type": "markdown",
      "source": [
        "# Selection Sort"
      ],
      "metadata": {
        "id": "XAbFYzQTuur0"
      }
    },
    {
      "cell_type": "code",
      "source": [
        "# The Selection Sort algorithm finds the lowest value in an array and moves it to the front of the array.\n",
        "\n",
        "def SelectionSort(arr):\n",
        "  for i in range(len(arr)):\n",
        "    min = i\n",
        "    print(arr)\n",
        "    for j in range(i,len(arr)):\n",
        "      if arr[min] > arr[j]:\n",
        "        min = j\n",
        "    arr[i],arr[min] = arr[min],arr[i]\n",
        "  return arr\n",
        "\n",
        "n = int(input())\n",
        "arr = list()\n",
        "for i in range(n):\n",
        "  arr.append(int(input()))\n",
        "print(\"Non Sorted : \",arr)\n",
        "print(\"Sorted : \",SelectionSort(arr))"
      ],
      "metadata": {
        "id": "nOyskYyYu2vh",
        "colab": {
          "base_uri": "https://localhost:8080/"
        },
        "outputId": "c65dee60-5cbf-4426-c159-d81f75df992b"
      },
      "execution_count": null,
      "outputs": [
        {
          "output_type": "stream",
          "name": "stdout",
          "text": [
            "6\n",
            "7\n",
            "8\n",
            "2\n",
            "5\n",
            "3\n",
            "1\n",
            "Non Sorted :  [7, 8, 2, 5, 3, 1]\n",
            "[7, 8, 2, 5, 3, 1]\n",
            "[1, 8, 2, 5, 3, 7]\n",
            "[1, 2, 8, 5, 3, 7]\n",
            "[1, 2, 3, 5, 8, 7]\n",
            "[1, 2, 3, 5, 8, 7]\n",
            "[1, 2, 3, 5, 7, 8]\n",
            "Sorted :  [1, 2, 3, 5, 7, 8]\n"
          ]
        }
      ]
    },
    {
      "cell_type": "code",
      "source": [
        "# Selection Sort using Shifting\n",
        "\n",
        "def SelectionSort(arr):\n",
        "  for i in range(len(arr)-1):\n",
        "    min = i\n",
        "    print(arr)\n",
        "    for j in range(i+1,len(arr)):\n",
        "      if arr[min] > arr[j]:\n",
        "        min = j\n",
        "    min_val = arr.pop(min)\n",
        "    arr.insert(i,min_val)\n",
        "  return arr\n",
        "\n",
        "n = int(input())\n",
        "arr = list()\n",
        "for i in range(n):\n",
        "  arr.append(int(input()))\n",
        "print(\"Non Sorted : \",arr)\n",
        "print(\"Sorted : \",SelectionSort(arr))\n",
        "\n",
        "# Time Complexity : O(n*n)"
      ],
      "metadata": {
        "id": "5kHlluQCGPIf",
        "colab": {
          "base_uri": "https://localhost:8080/"
        },
        "outputId": "22094057-4f28-4d98-c4e9-ecdefa2c8ed3"
      },
      "execution_count": null,
      "outputs": [
        {
          "output_type": "stream",
          "name": "stdout",
          "text": [
            "5\n",
            "7\n",
            "1\n",
            "5\n",
            "3\n",
            "4\n",
            "Non Sorted :  [7, 1, 5, 3, 4]\n",
            "[7, 1, 5, 3, 4]\n",
            "[1, 7, 5, 3, 4]\n",
            "[1, 3, 7, 5, 4]\n",
            "[1, 3, 4, 7, 5]\n",
            "Sorted :  [1, 3, 4, 5, 7]\n"
          ]
        }
      ]
    },
    {
      "cell_type": "markdown",
      "source": [
        "# Insertion Sort"
      ],
      "metadata": {
        "id": "7AyVIzUM-pyL"
      }
    },
    {
      "cell_type": "code",
      "source": [
        "# The Insertion Sort algorithm uses one part of the array to hold the sorted values, and the other part of the array to hold values that are not sorted yet.\n",
        "\n",
        "def InsertionSort(arr):\n",
        "  for i in range(1,len(arr)):\n",
        "    insert_index = i\n",
        "    curr_val = arr.pop(i)\n",
        "    for j in range(i-1,-1,-1):\n",
        "      if curr_val < arr[j]:\n",
        "        insert_index = j\n",
        "    arr.insert(insert_index,curr_val)\n",
        "  return arr\n",
        "\n",
        "n = int(input())\n",
        "arr = list()\n",
        "for i in range(n):\n",
        "  arr.append(int(input()))\n",
        "print(\"Non Sorted : \",arr)\n",
        "print(\"Sorted : \",InsertionSort(arr))"
      ],
      "metadata": {
        "colab": {
          "base_uri": "https://localhost:8080/"
        },
        "id": "s8gDReNJ-uCV",
        "outputId": "379caf0d-3dbb-4dba-d96e-5f90e3db2703"
      },
      "execution_count": null,
      "outputs": [
        {
          "output_type": "stream",
          "name": "stdout",
          "text": [
            "5\n",
            "9\n",
            "2\n",
            "1\n",
            "7\n",
            "3\n",
            "Non Sorted :  [9, 2, 1, 7, 3]\n",
            "Sorted :  [1, 2, 3, 7, 9]\n"
          ]
        }
      ]
    },
    {
      "cell_type": "code",
      "source": [
        "# Improved Solution\n",
        "\n",
        "# The Insertion Sort algorithm uses one part of the array to hold the sorted values, and the other part of the array to hold values that are not sorted yet.\n",
        "\n",
        "def InsertionSort(arr):\n",
        "  for i in range(1,len(arr)):\n",
        "    insert_index = i\n",
        "    curr_val = arr[i]\n",
        "    for j in range(i-1,-1,-1):\n",
        "      if curr_val < arr[j]:\n",
        "        arr[j+1] = arr[j]\n",
        "        insert_index = j\n",
        "      else:\n",
        "        break\n",
        "    arr[insert_index] = curr_val\n",
        "  return arr\n",
        "\n",
        "n = int(input())\n",
        "arr = list()\n",
        "for i in range(n):\n",
        "  arr.append(int(input()))\n",
        "print(\"Non Sorted : \",arr)\n",
        "print(\"Sorted : \",InsertionSort(arr))\n",
        "\n",
        "# Time Complexity : O(n*n)"
      ],
      "metadata": {
        "colab": {
          "base_uri": "https://localhost:8080/"
        },
        "id": "vNDXSUDLLafN",
        "outputId": "1335b123-a085-486c-9e74-12dd78aa5892"
      },
      "execution_count": null,
      "outputs": [
        {
          "output_type": "stream",
          "name": "stdout",
          "text": [
            "5\n",
            "7\n",
            "2\n",
            "5\n",
            "1\n",
            "3\n",
            "Non Sorted :  [7, 2, 5, 1, 3]\n",
            "Sorted :  [1, 2, 3, 5, 7]\n"
          ]
        }
      ]
    },
    {
      "cell_type": "markdown",
      "source": [
        "# Quick Sort"
      ],
      "metadata": {
        "id": "Ds41rJjxv7xp"
      }
    },
    {
      "cell_type": "code",
      "source": [
        "# The Quicksort algorithm takes an array of values, chooses one of the values as the 'pivot' element, and moves the other values so that lower values are on the left of the pivot element, and higher values are on the right of it.\n",
        "# After the Quicksort algorithm has put the pivot element in between a sub-array with lower values on the left side, and a sub-array with higher values on the right side, the algorithm calls itself twice, so that Quicksort runs again for the sub-array on the left side, and for the sub-array on the right side.\n",
        "# The Quicksort algorithm continues to call itself until the sub-arrays are too small to be sorted.\n",
        "\n",
        "def part(arr,low,high):\n",
        "  p = arr[high]\n",
        "  i = low - 1\n",
        "  for j in range(low,high):\n",
        "    if arr[j] <= p:\n",
        "      i += 1\n",
        "      arr[i],arr[j]=arr[j],arr[i]\n",
        "  arr[i+1],arr[high] = arr[high],arr[i+1]\n",
        "  return i+1\n",
        "\n",
        "def QuickSort(arr,low = 0,high=None):\n",
        "  if high == None:\n",
        "    high = len(arr) - 1\n",
        "\n",
        "  if low < high:\n",
        "    pivot_index = part(arr,low,high)\n",
        "    QuickSort(arr,low,pivot_index-1)\n",
        "    QuickSort(arr,pivot_index+1,high)\n",
        "\n",
        "n = int(input())\n",
        "arr = list()\n",
        "for i in range(n):\n",
        "  arr.append(int(input()))\n",
        "print(\"Non Sorted : \",arr)\n",
        "QuickSort(arr)\n",
        "print(\"Sorted : \",arr)\n",
        "\n",
        "# The worst case scenario for Quicksort is : O(n*n)\n",
        "# But on average, the time complexity for Quicksort is actually just : O(nlog(n))"
      ],
      "metadata": {
        "colab": {
          "base_uri": "https://localhost:8080/"
        },
        "id": "jVyE90DRwA2P",
        "outputId": "c8e0e262-0272-4254-e783-a824a35cc0cc"
      },
      "execution_count": null,
      "outputs": [
        {
          "output_type": "stream",
          "name": "stdout",
          "text": [
            "5\n",
            "7\n",
            "6\n",
            "2\n",
            "4\n",
            "3\n",
            "Non Sorted :  [7, 6, 2, 4, 3]\n",
            "Sorted :  [2, 3, 4, 6, 7]\n"
          ]
        }
      ]
    },
    {
      "cell_type": "markdown",
      "source": [
        "# Counting Sort"
      ],
      "metadata": {
        "id": "Hg8mdVRKBvTB"
      }
    },
    {
      "cell_type": "code",
      "source": [
        "# The Counting Sort algorithm sorts an array by counting the number of times each value occurs.\n",
        "\n",
        "def CountingSort(arr):\n",
        "  l = [0]*(max(arr)+1)\n",
        "\n",
        "  while len(arr) > 0:\n",
        "    num = arr.pop(0)\n",
        "    l[num] += 1\n",
        "\n",
        "  for i in range(len(l)):\n",
        "    while l[i] > 0:\n",
        "      arr.append(i)\n",
        "      l[i] -= 1\n",
        "  return arr\n",
        "n = int(input())\n",
        "arr = list()\n",
        "for i in range(n):\n",
        "  arr.append(int(input()))\n",
        "print(\"Non Sorted : \",arr)\n",
        "print(\"Sorted : \",CountingSort(arr))\n",
        "\n",
        "# In general, time complexity for Counting Sort : O(n+k)\n",
        "# In worst case, time complexity for Counting Sort : O(n*n)"
      ],
      "metadata": {
        "colab": {
          "base_uri": "https://localhost:8080/"
        },
        "id": "uKZti_T1Bxq6",
        "outputId": "61dd3ec7-d395-4faa-c242-11c4128a534e"
      },
      "execution_count": null,
      "outputs": [
        {
          "output_type": "stream",
          "name": "stdout",
          "text": [
            "5\n",
            "2\n",
            "1\n",
            "2\n",
            "0\n",
            "3\n",
            "Non Sorted :  [2, 1, 2, 0, 3]\n",
            "Sorted :  [0, 1, 2, 2, 3]\n"
          ]
        }
      ]
    },
    {
      "cell_type": "markdown",
      "source": [
        "# Radix Sort"
      ],
      "metadata": {
        "id": "z8mlfwYUKgHq"
      }
    },
    {
      "cell_type": "code",
      "source": [
        "myArray = [170, 45, 75, 90, 802, 24, 2, 66]\n",
        "print(\"Original array:\", myArray)\n",
        "radixArray = [[], [], [], [], [], [], [], [], [], []]\n",
        "maxVal = max(myArray)\n",
        "exp = 1\n",
        "\n",
        "while maxVal // exp > 0:\n",
        "\n",
        "    while len(myArray) > 0:\n",
        "        val = myArray.pop()\n",
        "        radixIndex = (val // exp) % 10\n",
        "        radixArray[radixIndex].append(val)\n",
        "\n",
        "    for bucket in radixArray:\n",
        "        while len(bucket) > 0:\n",
        "            val = bucket.pop()\n",
        "            myArray.append(val)\n",
        "\n",
        "    exp *= 10\n",
        "\n",
        "print(\"Sorted array:\", myArray)\n",
        "\n",
        "# the time complexity would be : O(n*n)"
      ],
      "metadata": {
        "colab": {
          "base_uri": "https://localhost:8080/"
        },
        "id": "wDHMwTxj2MRx",
        "outputId": "62524816-14fd-4ad3-be20-7f97da88eb83"
      },
      "execution_count": null,
      "outputs": [
        {
          "output_type": "stream",
          "name": "stdout",
          "text": [
            "Original array: [170, 45, 75, 90, 802, 24, 2, 66]\n",
            "Sorted array: [2, 24, 45, 66, 75, 90, 170, 802]\n"
          ]
        }
      ]
    },
    {
      "cell_type": "markdown",
      "source": [
        "# Merge Sort"
      ],
      "metadata": {
        "id": "aNvWbwKvvpts"
      }
    },
    {
      "cell_type": "code",
      "source": [
        "# Using Recursion\n",
        "\n",
        "def mergeSort(arr):\n",
        "  if len(arr) <= 1:\n",
        "    return arr\n",
        "  mid = len(arr)//2\n",
        "  left = arr[:mid]\n",
        "  right = arr[mid:]\n",
        "  return merge(left,right)\n",
        "\n",
        "def merge(left,right):\n",
        "  result = []\n",
        "  i = j = 0\n",
        "  while i < len(left) and j < len(right):\n",
        "    if left[i] < right[j]:\n",
        "      result.append(left[i])\n",
        "      i += 1\n",
        "    else:\n",
        "      result.append(right[j])\n",
        "      j += 1\n",
        "  result.extend(left[i:])\n",
        "  result.extend(right[j:])\n",
        "  return result\n",
        "\n",
        "unsortedArr = [3, 7, 6, -10, 15, 23.5, 55, -13]\n",
        "sortedArr = mergeSort(unsortedArr)\n",
        "print(\"Unsorted array: \", unsortedArr)\n",
        "print(\"Sorted array:\", sortedArr)\n",
        "\n",
        "# Time Complexity of Merge Sort : O(nlogn)"
      ],
      "metadata": {
        "colab": {
          "base_uri": "https://localhost:8080/"
        },
        "id": "qBeajGS7vuDL",
        "outputId": "2b0bb6df-2f8c-4dbb-bfc5-60addad8317f"
      },
      "execution_count": null,
      "outputs": [
        {
          "output_type": "stream",
          "name": "stdout",
          "text": [
            "Unsorted array:  [3, 7, 6, -10, 15, 23.5, 55, -13]\n",
            "Sorted array: [3, 7, 6, -10, 15, 23.5, 55, -13]\n"
          ]
        }
      ]
    },
    {
      "cell_type": "markdown",
      "source": [
        "# Linear Search"
      ],
      "metadata": {
        "id": "KLiKlu6L1ogN"
      }
    },
    {
      "cell_type": "code",
      "source": [
        "def LinearSearch(arr,n):\n",
        "  for i in range(len(arr)):\n",
        "    if arr[i] == n:\n",
        "      return i\n",
        "  return -1\n",
        "arr = [8,7,2,5,4,1,9]\n",
        "n = int(input())\n",
        "print(\"Value Index : \", LinearSearch(arr,n))"
      ],
      "metadata": {
        "colab": {
          "base_uri": "https://localhost:8080/"
        },
        "id": "EhjsoLuK1r8v",
        "outputId": "8dbae867-641a-438a-ffbb-819949f5e2c7"
      },
      "execution_count": null,
      "outputs": [
        {
          "output_type": "stream",
          "name": "stdout",
          "text": [
            "6\n",
            "Value Index :  -1\n"
          ]
        }
      ]
    },
    {
      "cell_type": "markdown",
      "source": [
        "# Binary Search"
      ],
      "metadata": {
        "id": "rd6lP2h02_hP"
      }
    },
    {
      "cell_type": "code",
      "source": [
        "# Python3 Program for recursive binary search.\n",
        "def binarySearch(arr, l, r, x):\n",
        "\tif r >= l:\n",
        "\t\tmid = l + (r - l) // 2\n",
        "\t\tif arr[mid] == x:\n",
        "\t\t\treturn mid\n",
        "\t\telif arr[mid] > x:\n",
        "\t\t\treturn binarySearch(arr, l, mid-1, x)\n",
        "\t\telse:\n",
        "\t\t\treturn binarySearch(arr, mid + 1, r, x)\n",
        "\telse:\n",
        "\t\treturn -1\n",
        "\n",
        "\n",
        "# Driver Code\n",
        "if __name__ == '__main__':\n",
        "\tarr = [2, 3, 4, 10, 40]\n",
        "\tx = int(input())\n",
        "\tresult = binarySearch(arr, 0, len(arr)-1, x)\n",
        "\n",
        "\tif result != -1:\n",
        "\t\tprint(\"Element is present at index\", result)\n",
        "\telse:\n",
        "\t\tprint(\"Element is not present in array\")\n",
        "\n",
        "# Time Complexity of Binary Seach : O(logn)"
      ],
      "metadata": {
        "colab": {
          "base_uri": "https://localhost:8080/"
        },
        "id": "Peg7sklL3DL7",
        "outputId": "1422859c-2c42-4eee-91c3-be683528364f"
      },
      "execution_count": null,
      "outputs": [
        {
          "output_type": "stream",
          "name": "stdout",
          "text": [
            "4\n",
            "Element is present at index 2\n"
          ]
        }
      ]
    },
    {
      "cell_type": "markdown",
      "source": [
        "# Linked List"
      ],
      "metadata": {
        "id": "Y63mnl5M-ink"
      }
    },
    {
      "cell_type": "code",
      "source": [
        "class Node:\n",
        "  def __init__(self,data):\n",
        "    self.data = data\n",
        "    self.next = None\n",
        "\n",
        "node1 = Node(10);\n",
        "node2 = Node(20);\n",
        "node3 = Node(30);\n",
        "node4 = Node(40);\n",
        "\n",
        "node1.next = node2\n",
        "node2.next = node3\n",
        "node3.next = node4\n",
        "\n",
        "curr_node = node1\n",
        "\n",
        "while curr_node != None:\n",
        "  print(curr_node.data,end=\" -> \")\n",
        "  curr_node = curr_node.next\n",
        "print(\"null\")"
      ],
      "metadata": {
        "id": "jTQd929k-oUm",
        "colab": {
          "base_uri": "https://localhost:8080/"
        },
        "outputId": "e11fc6db-61e2-48e0-8d64-1891396a3d6c"
      },
      "execution_count": null,
      "outputs": [
        {
          "output_type": "stream",
          "name": "stdout",
          "text": [
            "10 -> 20 -> 30 -> 40 -> null\n"
          ]
        }
      ]
    },
    {
      "cell_type": "code",
      "source": [
        "# Doubly Linked List\n",
        "\n",
        "class Node:\n",
        "  def __init__(self,data):\n",
        "    self.data = data\n",
        "    self.next = None\n",
        "    self.prev = None\n",
        "\n",
        "node1 = Node(10)\n",
        "node2 = Node(20)\n",
        "node3 = Node(30)\n",
        "node4 = Node(40)\n",
        "\n",
        "node1.next = node2\n",
        "node2.next = node3\n",
        "node3.next = node4\n",
        "\n",
        "node2.prev = node1\n",
        "node3.prev = node2\n",
        "node4.prev = node3\n",
        "\n",
        "print(\"Traversing Forward : \",end=\" \")\n",
        "curr_head = node1\n",
        "while curr_head.next:\n",
        "  print(curr_head.data,end=\"->\")\n",
        "  curr_head = curr_head.next\n",
        "print(\"null\")\n",
        "\n",
        "print(\"Traversing Backward : \",end=\" \")\n",
        "curr_head = node4\n",
        "while curr_head:\n",
        "  print(curr_head.data,end=\"->\")\n",
        "  curr_head = curr_head.prev\n",
        "print(\"null\")"
      ],
      "metadata": {
        "colab": {
          "base_uri": "https://localhost:8080/"
        },
        "id": "V7b7dA-k1UMb",
        "outputId": "c7ea01a8-eb76-41b2-8d9c-3b3c32045a87"
      },
      "execution_count": null,
      "outputs": [
        {
          "output_type": "stream",
          "name": "stdout",
          "text": [
            "Traversing Forward :  10->20->30->null\n",
            "Traversing Backward :  40->30->20->10->null\n"
          ]
        }
      ]
    },
    {
      "cell_type": "code",
      "source": [
        "# Circular Linked List\n",
        "\n",
        "class Node:\n",
        "  def __init__(self,data):\n",
        "    self.data = data\n",
        "    self.next = None\n",
        "\n",
        "node1 = Node(10)\n",
        "node2 = Node(20)\n",
        "node3 = Node(30)\n",
        "node4 = Node(40)\n",
        "\n",
        "node1.next = node2\n",
        "node2.next = node3\n",
        "node3.next = node4\n",
        "node4.next = node1\n",
        "\n",
        "curr_head = node1\n",
        "start_node = node1\n",
        "print(curr_head.data,end=\"->\")\n",
        "curr_head = curr_head.next\n",
        "while curr_head != start_node:\n",
        "  print(curr_head.data,end=\"->\")\n",
        "  curr_head = curr_head.next\n",
        "print(\"...\")"
      ],
      "metadata": {
        "colab": {
          "base_uri": "https://localhost:8080/"
        },
        "id": "RfVNO92E3NrI",
        "outputId": "ad5d6a56-7322-413c-b428-79d607858b74"
      },
      "execution_count": null,
      "outputs": [
        {
          "output_type": "stream",
          "name": "stdout",
          "text": [
            "10->20->30->40->...\n"
          ]
        }
      ]
    },
    {
      "cell_type": "code",
      "source": [
        "# Linked List Operation\n",
        "# Traversal\n",
        "# Removal\n",
        "# Insertion\n",
        "# Sort\n",
        "\n",
        "class Node:\n",
        "  def __init__(self,data):\n",
        "    self.data = data\n",
        "    self.next = None\n",
        "\n",
        "def travers(node):\n",
        "  curr_head = node\n",
        "  while curr_head:\n",
        "    print(curr_head.data,end=\" -> \")\n",
        "    curr_head = curr_head.next\n",
        "  print(\"null\")\n",
        "\n",
        "\n",
        "node1 = Node(10)\n",
        "node2 = Node(40)\n",
        "node3 = Node(20)\n",
        "node4 = Node(50)\n",
        "node5 = Node(30)\n",
        "\n",
        "node1.next = node2\n",
        "node2.next = node3\n",
        "node3.next = node4\n",
        "node4.next = node5\n",
        "\n",
        "travers(node1)\n"
      ],
      "metadata": {
        "colab": {
          "base_uri": "https://localhost:8080/"
        },
        "id": "BVbLg0ge5UIW",
        "outputId": "89ee8fa3-3dee-49b5-8a08-9f93f0fb2448"
      },
      "execution_count": null,
      "outputs": [
        {
          "output_type": "stream",
          "name": "stdout",
          "text": [
            "10 -> 40 -> 20 -> 50 -> 30 -> null\n"
          ]
        }
      ]
    },
    {
      "cell_type": "code",
      "source": [
        "# Deletion in Linked List\n",
        "\n",
        "def delete(node,n):\n",
        "  curr_head = node\n",
        "  while curr_head.data != n:\n",
        "    prev = curr_head\n",
        "    curr_head = curr_head.next\n",
        "  prev.next = curr_head.next\n",
        "n = int(input())\n",
        "delete(node1,n)\n",
        "travers(node1)"
      ],
      "metadata": {
        "colab": {
          "base_uri": "https://localhost:8080/"
        },
        "id": "fVT5OpYC7edP",
        "outputId": "8ed3fb1b-d0f0-40b5-ff2b-3cbd40b4463f"
      },
      "execution_count": null,
      "outputs": [
        {
          "output_type": "stream",
          "name": "stdout",
          "text": [
            "50\n",
            "10 -> 40 -> 20 -> 30 -> null\n"
          ]
        }
      ]
    },
    {
      "cell_type": "markdown",
      "source": [
        "# Stack"
      ],
      "metadata": {
        "id": "Gy2AKFKo3Q_F"
      }
    },
    {
      "cell_type": "code",
      "source": [
        "stack = []\n",
        "\n",
        "# Push\n",
        "\n",
        "stack.append(10)\n",
        "stack.append(20)\n",
        "stack.append(30)\n",
        "stack.append(40)\n",
        "stack.append(50)\n",
        "\n",
        "print(\"Stack : \", stack)\n",
        "\n",
        "# Pop\n",
        "\n",
        "element = stack.pop()\n",
        "print(\"Popped Element : \", element)\n",
        "\n",
        "# Peek\n",
        "\n",
        "element = stack[-1]\n",
        "print(\"Top Element : \", element)\n",
        "\n",
        "# isEmpty\n",
        "\n",
        "isEmpty = not bool(stack)\n",
        "print(\"isEmpty : \", isEmpty)\n",
        "\n",
        "# Size\n",
        "\n",
        "print(\"Size : \", len(stack))"
      ],
      "metadata": {
        "colab": {
          "base_uri": "https://localhost:8080/"
        },
        "id": "GMwF3Ibm3UB0",
        "outputId": "59f085de-3d5c-47bb-be85-dfdf22dc5c88"
      },
      "execution_count": 1,
      "outputs": [
        {
          "output_type": "stream",
          "name": "stdout",
          "text": [
            "Stack :  [10, 20, 30, 40, 50]\n",
            "Popped Element :  50\n",
            "Top Element :  40\n",
            "isEmpty :  False\n",
            "Size :  4\n"
          ]
        }
      ]
    },
    {
      "cell_type": "code",
      "source": [
        "class Stack:\n",
        "  def __init__(self):\n",
        "    self.stack = []\n",
        "  def push(self,data):\n",
        "    self.stack.append(10)\n",
        "  def pop(self):\n",
        "    self.stack.pop()\n",
        "  def top(self):\n",
        "    return self.stack[-1]\n",
        "  def isEmpty(self):\n",
        "    return not bool(self.stack)\n",
        "  def size(self):\n",
        "    return len(self.stack)\n",
        "\n",
        "myStack = Stack()\n",
        "myStack.push(10)\n",
        "myStack.push(20)\n",
        "myStack.push(30)\n",
        "print(myStack.stack)\n",
        "myStack.pop()\n",
        "print(myStack.stack)\n",
        "print(myStack.top())\n",
        "print(myStack.isEmpty())\n",
        "print(myStack.size())"
      ],
      "metadata": {
        "colab": {
          "base_uri": "https://localhost:8080/"
        },
        "id": "G3OnZVVO4WtK",
        "outputId": "756977c2-bad7-4c03-89b1-9e3130ab0d43"
      },
      "execution_count": 4,
      "outputs": [
        {
          "output_type": "stream",
          "name": "stdout",
          "text": [
            "[10, 10, 10]\n",
            "[10, 10]\n",
            "10\n",
            "False\n",
            "2\n"
          ]
        }
      ]
    },
    {
      "cell_type": "markdown",
      "source": [
        "# Queue"
      ],
      "metadata": {
        "id": "iqlTJNMU9Ev7"
      }
    },
    {
      "cell_type": "code",
      "source": [
        "queue = []\n",
        "\n",
        "# Enqueue\n",
        "\n",
        "queue.append(10)\n",
        "queue.append(20)\n",
        "queue.append(30)\n",
        "queue.append(40)\n",
        "print(\"Queue : \", queue)\n",
        "\n",
        "# Dequeue\n",
        "\n",
        "element = queue.pop(0)\n",
        "print(\"Dequeue : \", element)\n",
        "\n",
        "# Peek\n",
        "\n",
        "element = queue[0]\n",
        "print(\"Peek : \", element)\n",
        "\n",
        "# isEmpty\n",
        "\n",
        "print(not bool(queue))\n",
        "\n",
        "# Size\n",
        "\n",
        "print(len(queue))"
      ],
      "metadata": {
        "colab": {
          "base_uri": "https://localhost:8080/"
        },
        "id": "UAvqvPTq9HVJ",
        "outputId": "aef69ddb-ac47-4ec9-a2d1-391bf765adb4"
      },
      "execution_count": 5,
      "outputs": [
        {
          "output_type": "stream",
          "name": "stdout",
          "text": [
            "Queue :  [10, 20, 30, 40]\n",
            "Dequeue :  10\n",
            "Peek :  20\n",
            "False\n",
            "3\n"
          ]
        }
      ]
    },
    {
      "cell_type": "code",
      "source": [
        "# Queue Implementation Using Linked List\n",
        "\n",
        "class Node:\n",
        "  def __init__(self,data):\n",
        "    self.data = data\n",
        "    self.next = None\n",
        "\n",
        "class Queue:\n",
        "  def __init__(self):\n",
        "    self.front = None\n",
        "    self.rear = None\n",
        "    self.length = 0\n",
        "\n",
        "  def enqueue(self,data):\n",
        "    newNode = Node(data)\n",
        "    if self.rear is None:\n",
        "      self.front = self.rear = newNode\n",
        "      self.length += 1\n",
        "      return\n",
        "    self.rear.next = newNode\n",
        "    self.rear = newNode\n",
        "    self.length += 1\n",
        "\n",
        "  def dequeue(self):\n",
        "    if self.isEmpty():\n",
        "      return \"Queue is Empty\"\n",
        "    temp = self.front\n",
        "    self.front = temp.next\n",
        "    self.length -= 1\n",
        "    if self.front is None:\n",
        "      self.rear = None\n",
        "    return temp.data\n",
        "\n",
        "  def peek(self):\n",
        "    if self.isEmpty():\n",
        "      return \"Queue is Empty\"\n",
        "    return self.front.data\n",
        "\n",
        "  def isEmpty(self):\n",
        "    return self.length == 0\n",
        "\n",
        "  def size(self):\n",
        "    return self.length\n",
        "\n",
        "  def printQueue(self):\n",
        "    temp = self.front\n",
        "    print(\"Queue : \",end=\" \")\n",
        "    while temp:\n",
        "      print(temp.data, end=\" \")\n",
        "      temp = temp.next\n",
        "    print()\n",
        "# Create Queue\n",
        "myQueue = Queue()\n",
        "myQueue.enqueue(10)\n",
        "myQueue.enqueue(20)\n",
        "myQueue.enqueue(30)\n",
        "myQueue.enqueue(40)\n",
        "myQueue.printQueue()\n",
        "\n",
        "print(\"Dequeue : \", myQueue.dequeue())\n",
        "print(\"Peek : \", myQueue.peek())\n",
        "print(\"isEmpty : \", myQueue.isEmpty())\n",
        "print(\"Size : \", myQueue.size())"
      ],
      "metadata": {
        "colab": {
          "base_uri": "https://localhost:8080/"
        },
        "id": "OZmYUqtW-Rbd",
        "outputId": "b65aed30-f978-4ea5-83b1-d213c93f2fc6"
      },
      "execution_count": 8,
      "outputs": [
        {
          "output_type": "stream",
          "name": "stdout",
          "text": [
            "Queue :  10 20 30 40 \n",
            "Dequeue :  10\n",
            "Peek :  20\n",
            "isEmpty :  False\n",
            "Size :  3\n"
          ]
        }
      ]
    },
    {
      "cell_type": "code",
      "source": [],
      "metadata": {
        "id": "5-q6YodEC8sl"
      },
      "execution_count": null,
      "outputs": []
    }
  ]
}