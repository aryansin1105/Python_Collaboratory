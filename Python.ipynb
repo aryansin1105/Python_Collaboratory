{
  "nbformat": 4,
  "nbformat_minor": 0,
  "metadata": {
    "colab": {
      "provenance": [],
      "authorship_tag": "ABX9TyOxyHNmUn5IcGluy755M6e1",
      "include_colab_link": true
    },
    "kernelspec": {
      "name": "python3",
      "display_name": "Python 3"
    },
    "language_info": {
      "name": "python"
    }
  },
  "cells": [
    {
      "cell_type": "markdown",
      "metadata": {
        "id": "view-in-github",
        "colab_type": "text"
      },
      "source": [
        "<a href=\"https://colab.research.google.com/github/aryansin1105/Python_Collaboratory/blob/main/Python.ipynb\" target=\"_parent\"><img src=\"https://colab.research.google.com/assets/colab-badge.svg\" alt=\"Open In Colab\"/></a>"
      ]
    },
    {
      "cell_type": "code",
      "execution_count": null,
      "metadata": {
        "colab": {
          "base_uri": "https://localhost:8080/"
        },
        "id": "aqAHNDseU3NZ",
        "outputId": "5d578d65-557b-44dc-d339-8310c109be64"
      },
      "outputs": [
        {
          "output_type": "stream",
          "name": "stdout",
          "text": [
            "Hello\n"
          ]
        }
      ],
      "source": [
        "#Keyword are reserved words\n",
        "print(\"Hello\")"
      ]
    },
    {
      "cell_type": "code",
      "source": [
        "import keyword\n",
        "print(keyword.kwlist)\n",
        "print(len(keyword.kwlist))"
      ],
      "metadata": {
        "colab": {
          "base_uri": "https://localhost:8080/"
        },
        "id": "YOw8WRS5Vju3",
        "outputId": "a5c33e5a-1335-4c19-8458-8dc54b291db5"
      },
      "execution_count": null,
      "outputs": [
        {
          "output_type": "stream",
          "name": "stdout",
          "text": [
            "['False', 'None', 'True', 'and', 'as', 'assert', 'async', 'await', 'break', 'class', 'continue', 'def', 'del', 'elif', 'else', 'except', 'finally', 'for', 'from', 'global', 'if', 'import', 'in', 'is', 'lambda', 'nonlocal', 'not', 'or', 'pass', 'raise', 'return', 'try', 'while', 'with', 'yield']\n",
            "35\n"
          ]
        }
      ]
    },
    {
      "cell_type": "code",
      "source": [
        "#identifiers are the name given to entities like variable or funtion or class etc\n",
        "#keyword cannot be identifier\n",
        "12abc=12 #invalid since starting with digits or keywords or special symbols"
      ],
      "metadata": {
        "colab": {
          "base_uri": "https://localhost:8080/",
          "height": 140
        },
        "id": "HpRQ2ydgVyw5",
        "outputId": "b2ff968b-25b0-421c-e926-cc743e9369ac"
      },
      "execution_count": null,
      "outputs": [
        {
          "output_type": "error",
          "ename": "SyntaxError",
          "evalue": "ignored",
          "traceback": [
            "\u001b[0;36m  File \u001b[0;32m\"<ipython-input-3-0325abde61a7>\"\u001b[0;36m, line \u001b[0;32m3\u001b[0m\n\u001b[0;31m    12abc=12\u001b[0m\n\u001b[0m     ^\u001b[0m\n\u001b[0;31mSyntaxError\u001b[0m\u001b[0;31m:\u001b[0m invalid decimal literal\n"
          ]
        }
      ]
    },
    {
      "cell_type": "code",
      "source": [
        "#single line comments\n",
        "'''this is\n",
        "multiline comment'''\n",
        "\"\"\"this is\n",
        "multiline comment also\"\"\""
      ],
      "metadata": {
        "colab": {
          "base_uri": "https://localhost:8080/",
          "height": 35
        },
        "id": "_she_ia1Wue5",
        "outputId": "24927bdc-f559-4599-b5cb-1d7802ef5b64"
      },
      "execution_count": null,
      "outputs": [
        {
          "output_type": "execute_result",
          "data": {
            "text/plain": [
              "'this is\\nmultiline comment also'"
            ],
            "application/vnd.google.colaboratory.intrinsic+json": {
              "type": "string"
            }
          },
          "metadata": {},
          "execution_count": 6
        }
      ]
    },
    {
      "cell_type": "code",
      "source": [
        "a = 1 #single statement\n",
        "a = 10 ; b = 20 ; c = 30 #multiple statement"
      ],
      "metadata": {
        "id": "KdKKV7PgXKQl"
      },
      "execution_count": null,
      "outputs": []
    },
    {
      "cell_type": "code",
      "source": [
        "#variable is a location of memory used to store value in it\n",
        "a = 10\n",
        "print(type(a))\n",
        "a = 10.5\n",
        "print(type(a))\n",
        "a = \"Hello\"\n",
        "print(type(a))\n",
        "a = 'H'\n",
        "print(type(a))\n",
        "a = 2 + 5j\n",
        "print(type(a))\n",
        "a = True\n",
        "print(type(a))"
      ],
      "metadata": {
        "colab": {
          "base_uri": "https://localhost:8080/"
        },
        "id": "b3X94rp_Xjk0",
        "outputId": "416feeaf-097b-469e-9f0b-14e4fbebe70e"
      },
      "execution_count": null,
      "outputs": [
        {
          "output_type": "stream",
          "name": "stdout",
          "text": [
            "<class 'int'>\n",
            "<class 'float'>\n",
            "<class 'str'>\n",
            "<class 'str'>\n",
            "<class 'complex'>\n",
            "<class 'bool'>\n"
          ]
        }
      ]
    },
    {
      "cell_type": "code",
      "source": [
        "print(id(a)) #id returen addresss of variable\n",
        "y = \"Hello\"\n",
        "print(id(y)) #both have same location rather than creating new location for different variable"
      ],
      "metadata": {
        "colab": {
          "base_uri": "https://localhost:8080/"
        },
        "id": "9N89awgiYkNa",
        "outputId": "228e1652-6c5a-485a-bc33-c6cba6819013"
      },
      "execution_count": null,
      "outputs": [
        {
          "output_type": "stream",
          "name": "stdout",
          "text": [
            "138513224462448\n",
            "138513224462448\n"
          ]
        }
      ]
    },
    {
      "cell_type": "code",
      "source": [
        "#everything in python is object and every value in python have data type\n",
        "#data type are classes and variable are instance or object of classes or datatype\n",
        "a = 2 + 5j\n",
        "print(isinstance(a,complex)) #returns whether a is instance or object of complex class or not"
      ],
      "metadata": {
        "colab": {
          "base_uri": "https://localhost:8080/"
        },
        "id": "SkNY9RUkZDHn",
        "outputId": "96ac38cb-9b74-413e-d0df-5d8fa4dee1d8"
      },
      "execution_count": null,
      "outputs": [
        {
          "output_type": "stream",
          "name": "stdout",
          "text": [
            "True\n"
          ]
        }
      ]
    },
    {
      "cell_type": "code",
      "source": [
        "#string is sequence of UNICODE character\n",
        "s = \"This is String\"\n",
        "print(s[0])\n",
        "print(s[5:]) #slicing\n",
        "print(s[-1::-1]) #reverse of string\n",
        "print(s[len(s)-1])"
      ],
      "metadata": {
        "colab": {
          "base_uri": "https://localhost:8080/"
        },
        "id": "p6fvAiqTaKTu",
        "outputId": "08e08c7b-1852-47d2-8d39-8bf7708ee7c6"
      },
      "execution_count": null,
      "outputs": [
        {
          "output_type": "stream",
          "name": "stdout",
          "text": [
            "T\n",
            "is String\n",
            "gnirtS si sihT\n",
            "g\n"
          ]
        }
      ]
    },
    {
      "cell_type": "code",
      "source": [
        "#list is ordered sequence of items and are mutable means value of list can be altered\n",
        "l = [1,2,3,4]\n",
        "print(l)\n",
        "print(type(l))\n",
        "print(l[0])\n",
        "l[0] = 5 #altering or mutation\n",
        "print(l)"
      ],
      "metadata": {
        "colab": {
          "base_uri": "https://localhost:8080/"
        },
        "id": "xtm5t4iPa51b",
        "outputId": "a6f1ffa3-c6a6-48c7-fd46-a262a2f4dc5b"
      },
      "execution_count": null,
      "outputs": [
        {
          "output_type": "stream",
          "name": "stdout",
          "text": [
            "[1, 2, 3, 4]\n",
            "<class 'list'>\n",
            "1\n",
            "[5, 2, 3, 4]\n"
          ]
        }
      ]
    },
    {
      "cell_type": "code",
      "source": [
        "#tuple is ordered sequence of item of same as list but they are immutable\n",
        "t = (1,3,4,5)\n",
        "print(t)\n",
        "print(type(t))\n",
        "print(t[0])"
      ],
      "metadata": {
        "colab": {
          "base_uri": "https://localhost:8080/"
        },
        "id": "2j0jF4UNcA1Z",
        "outputId": "ecb79378-fb7d-4a03-a997-b1bda5f8b0b0"
      },
      "execution_count": null,
      "outputs": [
        {
          "output_type": "stream",
          "name": "stdout",
          "text": [
            "(1, 3, 4, 5)\n",
            "<class 'tuple'>\n",
            "1\n"
          ]
        }
      ]
    },
    {
      "cell_type": "code",
      "source": [
        "t[0] = 2\n",
        "print(t) #does not support mutability"
      ],
      "metadata": {
        "colab": {
          "base_uri": "https://localhost:8080/",
          "height": 193
        },
        "id": "KQIn-H8dcynq",
        "outputId": "926a908d-4627-47c4-aa5b-ab6d9891c448"
      },
      "execution_count": null,
      "outputs": [
        {
          "output_type": "error",
          "ename": "TypeError",
          "evalue": "ignored",
          "traceback": [
            "\u001b[0;31m---------------------------------------------------------------------------\u001b[0m",
            "\u001b[0;31mTypeError\u001b[0m                                 Traceback (most recent call last)",
            "\u001b[0;32m<ipython-input-31-2adf7febd524>\u001b[0m in \u001b[0;36m<cell line: 1>\u001b[0;34m()\u001b[0m\n\u001b[0;32m----> 1\u001b[0;31m \u001b[0mt\u001b[0m\u001b[0;34m[\u001b[0m\u001b[0;36m0\u001b[0m\u001b[0;34m]\u001b[0m \u001b[0;34m=\u001b[0m \u001b[0;36m2\u001b[0m\u001b[0;34m\u001b[0m\u001b[0;34m\u001b[0m\u001b[0m\n\u001b[0m\u001b[1;32m      2\u001b[0m \u001b[0mprint\u001b[0m\u001b[0;34m(\u001b[0m\u001b[0mt\u001b[0m\u001b[0;34m)\u001b[0m\u001b[0;34m\u001b[0m\u001b[0;34m\u001b[0m\u001b[0m\n",
            "\u001b[0;31mTypeError\u001b[0m: 'tuple' object does not support item assignment"
          ]
        }
      ]
    },
    {
      "cell_type": "code",
      "source": [
        "#set are unordered collection of unique items and they are not ordered and are mutable\n",
        "s = {1,2,2,3,4,4,5,6}\n",
        "print(s)\n",
        "print(type(s))"
      ],
      "metadata": {
        "colab": {
          "base_uri": "https://localhost:8080/"
        },
        "id": "gagMIZ9Fc2-z",
        "outputId": "6b5a836a-5ff6-4e34-c782-d1e2dc01de4a"
      },
      "execution_count": null,
      "outputs": [
        {
          "output_type": "stream",
          "name": "stdout",
          "text": [
            "{1, 2, 3, 4, 5, 6}\n",
            "<class 'set'>\n"
          ]
        }
      ]
    },
    {
      "cell_type": "code",
      "source": [
        "print(s[0]) #cannot give indexed value since it is unorded"
      ],
      "metadata": {
        "colab": {
          "base_uri": "https://localhost:8080/",
          "height": 175
        },
        "id": "vjauL4UudG9S",
        "outputId": "052218fa-62d1-4b66-91ac-340172d1ee73"
      },
      "execution_count": null,
      "outputs": [
        {
          "output_type": "error",
          "ename": "TypeError",
          "evalue": "ignored",
          "traceback": [
            "\u001b[0;31m---------------------------------------------------------------------------\u001b[0m",
            "\u001b[0;31mTypeError\u001b[0m                                 Traceback (most recent call last)",
            "\u001b[0;32m<ipython-input-33-5605e14cbe49>\u001b[0m in \u001b[0;36m<cell line: 1>\u001b[0;34m()\u001b[0m\n\u001b[0;32m----> 1\u001b[0;31m \u001b[0mprint\u001b[0m\u001b[0;34m(\u001b[0m\u001b[0ms\u001b[0m\u001b[0;34m[\u001b[0m\u001b[0;36m0\u001b[0m\u001b[0;34m]\u001b[0m\u001b[0;34m)\u001b[0m\u001b[0;34m\u001b[0m\u001b[0;34m\u001b[0m\u001b[0m\n\u001b[0m",
            "\u001b[0;31mTypeError\u001b[0m: 'set' object is not subscriptable"
          ]
        }
      ]
    },
    {
      "cell_type": "code",
      "source": [
        "s[0] = 7 #it does not support item assignment\n",
        "print(s)"
      ],
      "metadata": {
        "colab": {
          "base_uri": "https://localhost:8080/",
          "height": 193
        },
        "id": "Ng8DxK2edV0H",
        "outputId": "fc2dd339-39d1-4b54-eee7-13ec33a56f17"
      },
      "execution_count": null,
      "outputs": [
        {
          "output_type": "error",
          "ename": "TypeError",
          "evalue": "ignored",
          "traceback": [
            "\u001b[0;31m---------------------------------------------------------------------------\u001b[0m",
            "\u001b[0;31mTypeError\u001b[0m                                 Traceback (most recent call last)",
            "\u001b[0;32m<ipython-input-34-7b669960f892>\u001b[0m in \u001b[0;36m<cell line: 1>\u001b[0;34m()\u001b[0m\n\u001b[0;32m----> 1\u001b[0;31m \u001b[0ms\u001b[0m\u001b[0;34m[\u001b[0m\u001b[0;36m0\u001b[0m\u001b[0;34m]\u001b[0m \u001b[0;34m=\u001b[0m \u001b[0;36m7\u001b[0m\u001b[0;34m\u001b[0m\u001b[0;34m\u001b[0m\u001b[0m\n\u001b[0m\u001b[1;32m      2\u001b[0m \u001b[0mprint\u001b[0m\u001b[0;34m(\u001b[0m\u001b[0ms\u001b[0m\u001b[0;34m)\u001b[0m\u001b[0;34m\u001b[0m\u001b[0;34m\u001b[0m\u001b[0m\n",
            "\u001b[0;31mTypeError\u001b[0m: 'set' object does not support item assignment"
          ]
        }
      ]
    },
    {
      "cell_type": "code",
      "source": [
        "#dictionary is unordered collection of key-value pairs\n",
        "d = {\n",
        "    \"name\":\"Aryan\",\n",
        "    \"class\":\"Mca\",\n",
        "    \"roll\":12220851\n",
        "}\n",
        "print(d)\n",
        "print(type(d))\n",
        "print(d[\"name\"]) #accessing values from keys of dictionary\n",
        "# print(d[\"section\"]) #give eerror if key are not found"
      ],
      "metadata": {
        "colab": {
          "base_uri": "https://localhost:8080/"
        },
        "id": "Q1H8R9xHdn4R",
        "outputId": "3f5d3ca8-7b69-4850-cfd5-ef1bc741eb51"
      },
      "execution_count": null,
      "outputs": [
        {
          "output_type": "stream",
          "name": "stdout",
          "text": [
            "{'name': 'Aryan', 'class': 'Mca', 'roll': 12220851}\n",
            "<class 'dict'>\n",
            "Aryan\n"
          ]
        }
      ]
    },
    {
      "cell_type": "code",
      "source": [
        "#conversion of datatype\n",
        "print(int(10.5))\n",
        "print(float(20))\n",
        "print(str(15))\n",
        "print(complex(1,5))"
      ],
      "metadata": {
        "colab": {
          "base_uri": "https://localhost:8080/"
        },
        "id": "CPCPMmGLeEzW",
        "outputId": "584a5704-33f8-4daf-9519-44da3a33c030"
      },
      "execution_count": null,
      "outputs": [
        {
          "output_type": "stream",
          "name": "stdout",
          "text": [
            "10\n",
            "20.0\n",
            "15\n",
            "(1+5j)\n"
          ]
        }
      ]
    },
    {
      "cell_type": "code",
      "source": [
        "a = 10; b = 20\n",
        "print(\"a = {} and b = {}\".format(a,b)) #formatting the output\n",
        "print(\"a = {1} and b = {0}\".format(a,b))\n",
        "print(\"{name} {greet}\".format(name=\"Aryan\",greet=\"Good Morning\"))"
      ],
      "metadata": {
        "colab": {
          "base_uri": "https://localhost:8080/"
        },
        "id": "AeEU7sIXe2lz",
        "outputId": "be11fa49-3019-4f29-c3b5-32cab8c298fd"
      },
      "execution_count": null,
      "outputs": [
        {
          "output_type": "stream",
          "name": "stdout",
          "text": [
            "a = 10 and b = 20\n",
            "a = 20 and b = 10\n",
            "Aryan Good Morning\n"
          ]
        }
      ]
    },
    {
      "cell_type": "code",
      "source": [
        "num = input(\"enter some value\")\n",
        "print(num)"
      ],
      "metadata": {
        "colab": {
          "base_uri": "https://localhost:8080/"
        },
        "id": "--L4nu77agg6",
        "outputId": "54eb08f7-0976-4e78-c711-9aefe066a365"
      },
      "execution_count": null,
      "outputs": [
        {
          "output_type": "stream",
          "name": "stdout",
          "text": [
            "enter some valuearyan\n",
            "aryan\n"
          ]
        }
      ]
    },
    {
      "cell_type": "code",
      "source": [
        "emptyList = []\n",
        "l = [1,\"aryan\",\"mca\",88.67]\n",
        "l1 = [l]\n",
        "print(l)\n",
        "print(l1)\n",
        "print(len(l)) #function to get length of list"
      ],
      "metadata": {
        "colab": {
          "base_uri": "https://localhost:8080/"
        },
        "id": "pgwRcE13c-TU",
        "outputId": "c0e3dd60-a0c1-481d-9ad9-6fa6148c928e"
      },
      "execution_count": null,
      "outputs": [
        {
          "output_type": "stream",
          "name": "stdout",
          "text": [
            "[1, 'aryan', 'mca', 88.67]\n",
            "[[1, 'aryan', 'mca', 88.67]]\n",
            "4\n"
          ]
        }
      ]
    },
    {
      "cell_type": "code",
      "source": [
        "l.append(12220851) #inserting element at the end of list\n",
        "print(l)\n",
        "l.insert(2,21) #inserting element at specific position\n",
        "print(l)"
      ],
      "metadata": {
        "colab": {
          "base_uri": "https://localhost:8080/"
        },
        "id": "XwR2fh7QdYpr",
        "outputId": "382eee3b-5669-4404-a802-286f02633e56"
      },
      "execution_count": null,
      "outputs": [
        {
          "output_type": "stream",
          "name": "stdout",
          "text": [
            "[1, 'aryan', 21, 'mca', 88.67, 12220851, 12220851, 12220851]\n",
            "[1, 'aryan', 21, 21, 'mca', 88.67, 12220851, 12220851, 12220851]\n"
          ]
        }
      ]
    },
    {
      "cell_type": "code",
      "source": [
        "l.remove(12220851) #remove first occurence of element\n",
        "print(l)"
      ],
      "metadata": {
        "colab": {
          "base_uri": "https://localhost:8080/"
        },
        "id": "UduOyoMpdl30",
        "outputId": "d9e823c6-d997-4f90-f6fb-d239bd938670"
      },
      "execution_count": null,
      "outputs": [
        {
          "output_type": "stream",
          "name": "stdout",
          "text": [
            "[1, 'aryan', 21, 'mca', 88.67, 12220851, 12220851]\n"
          ]
        }
      ]
    },
    {
      "cell_type": "code",
      "source": [
        "l1 = [1,2,3,4]\n",
        "l2 = [5,6,7]\n",
        "l1.extend(l2) #it extend the item of second list in first list\n",
        "print(l1)"
      ],
      "metadata": {
        "colab": {
          "base_uri": "https://localhost:8080/"
        },
        "id": "YZz7ldT0eALx",
        "outputId": "390c64da-3df2-4c54-a3f3-cc63458bc294"
      },
      "execution_count": null,
      "outputs": [
        {
          "output_type": "stream",
          "name": "stdout",
          "text": [
            "[1, 2, 3, 4, 5, 6, 7]\n"
          ]
        }
      ]
    },
    {
      "cell_type": "code",
      "source": [
        "del(l[0])\n",
        "print(l)\n",
        "r = l.pop() #we can pass index of item to pop or it will pop from last index\n",
        "print(r)\n",
        "l.remove('mca')\n",
        "print(l)"
      ],
      "metadata": {
        "colab": {
          "base_uri": "https://localhost:8080/"
        },
        "id": "-Bl-ksxWehnl",
        "outputId": "c15578e1-d5d8-49bd-a3c3-5e3f1df7ce85"
      },
      "execution_count": null,
      "outputs": [
        {
          "output_type": "stream",
          "name": "stdout",
          "text": [
            "[21, 'mca', 88.67, 12220851, 12220851]\n",
            "12220851\n"
          ]
        }
      ]
    },
    {
      "cell_type": "code",
      "source": [
        "if 'mca' in l:\n",
        "  print(True)\n",
        "else:\n",
        "  print(False)\n",
        "if 'bca' not in l:\n",
        "  print(True)\n",
        "else:\n",
        "  print(False)"
      ],
      "metadata": {
        "colab": {
          "base_uri": "https://localhost:8080/"
        },
        "id": "7kfwMpG7esKp",
        "outputId": "eb87cec2-ac42-44b4-8f58-ce779306f339"
      },
      "execution_count": null,
      "outputs": [
        {
          "output_type": "stream",
          "name": "stdout",
          "text": [
            "True\n",
            "True\n"
          ]
        }
      ]
    },
    {
      "cell_type": "code",
      "source": [
        "l.reverse()\n",
        "print(l)"
      ],
      "metadata": {
        "colab": {
          "base_uri": "https://localhost:8080/"
        },
        "id": "kIhU4vtUfS8M",
        "outputId": "d150ecdc-df42-4540-f9dd-9c6d264b35de"
      },
      "execution_count": null,
      "outputs": [
        {
          "output_type": "stream",
          "name": "stdout",
          "text": [
            "[12220851, 88.67, 'mca', 21]\n"
          ]
        }
      ]
    },
    {
      "cell_type": "code",
      "source": [
        "s = sorted(l1,reverse=True) #sorting element in descending order\n",
        "print(s)\n",
        "s.sort()\n",
        "print(s)"
      ],
      "metadata": {
        "colab": {
          "base_uri": "https://localhost:8080/"
        },
        "id": "ge4jA5-9fde6",
        "outputId": "5f5e0ac9-6ac7-4bd0-b081-d1602d24560b"
      },
      "execution_count": null,
      "outputs": [
        {
          "output_type": "stream",
          "name": "stdout",
          "text": [
            "[7, 6, 5, 4, 3, 2, 1]\n",
            "[1, 2, 3, 4, 5, 6, 7]\n"
          ]
        }
      ]
    },
    {
      "cell_type": "code",
      "source": [
        "s = \"Hello, Aryan How are You, I hope you are fine\"\n",
        "spl = s.split(',')\n",
        "sp = s.split()\n",
        "print(spl)\n",
        "print(sp)\n",
        "print(sp.count(1)) #number of time 1 occure in sp\n",
        "print(type(sp))"
      ],
      "metadata": {
        "colab": {
          "base_uri": "https://localhost:8080/"
        },
        "id": "YgZQp90tfgRr",
        "outputId": "50ccdbe0-c87c-49fd-fbc4-65da60e786f9"
      },
      "execution_count": null,
      "outputs": [
        {
          "output_type": "stream",
          "name": "stdout",
          "text": [
            "['Hello', ' Aryan How are You', ' I hope you are fine']\n",
            "['Hello,', 'Aryan', 'How', 'are', 'You,', 'I', 'hope', 'you', 'are', 'fine']\n",
            "0\n",
            "<class 'list'>\n"
          ]
        }
      ]
    },
    {
      "cell_type": "code",
      "source": [
        "#looping without list comprehension\n",
        "square = []\n",
        "for i in range(10):\n",
        "  square.append(i**2)\n",
        "print(square)"
      ],
      "metadata": {
        "colab": {
          "base_uri": "https://localhost:8080/"
        },
        "id": "LTnLMcL_hAj7",
        "outputId": "3b664a5a-8219-429d-fc28-351d308e6c52"
      },
      "execution_count": null,
      "outputs": [
        {
          "output_type": "stream",
          "name": "stdout",
          "text": [
            "[0, 1, 4, 9, 16, 25, 36, 49, 64, 81]\n"
          ]
        }
      ]
    },
    {
      "cell_type": "code",
      "source": [
        "#with list comprehension\n",
        "square = [i**2 for i in range(10)]\n",
        "print(square)"
      ],
      "metadata": {
        "colab": {
          "base_uri": "https://localhost:8080/"
        },
        "id": "mAEU1gxejAB0",
        "outputId": "20ac9c73-3654-4cbb-b997-4356f06040c9"
      },
      "execution_count": null,
      "outputs": [
        {
          "output_type": "stream",
          "name": "stdout",
          "text": [
            "[0, 1, 4, 9, 16, 25, 36, 49, 64, 81]\n"
          ]
        }
      ]
    },
    {
      "cell_type": "code",
      "source": [
        "li = [10,2,-8,7,6]\n",
        "new_l = [i*2 for i in li]\n",
        "print(new_l)\n",
        "nl = [i for i in li if i>=0]\n",
        "print(nl)\n",
        "tp = [(i,i**2) for i in range(5)]\n",
        "print(tp)"
      ],
      "metadata": {
        "colab": {
          "base_uri": "https://localhost:8080/"
        },
        "id": "Rl_8iUhbjUAK",
        "outputId": "b057fbce-8d2f-4f5b-aa6d-4f273acea0a1"
      },
      "execution_count": null,
      "outputs": [
        {
          "output_type": "stream",
          "name": "stdout",
          "text": [
            "[20, 4, -16, 14, 12]\n",
            "[10, 2, 7, 6]\n",
            "[(0, 0), (1, 1), (2, 4), (3, 9), (4, 16)]\n"
          ]
        }
      ]
    },
    {
      "cell_type": "code",
      "source": [
        "#nested list\n",
        "#transpose of matrix without list comprehension\n",
        "matrix = [\n",
        "    [1,2,3,4],\n",
        "    [5,6,7,8],\n",
        "    [9,10,11,12]\n",
        "]\n",
        "print(matrix)\n",
        "transpose = []\n",
        "for i in range(4):\n",
        "  lst = []\n",
        "  for j in matrix:\n",
        "    lst.append(j[i])\n",
        "  transpose.append(lst)\n",
        "print(transpose)"
      ],
      "metadata": {
        "colab": {
          "base_uri": "https://localhost:8080/"
        },
        "id": "3bYPLn0Sjo8j",
        "outputId": "d001b5df-9a44-4324-ff5b-0e81c280c527"
      },
      "execution_count": null,
      "outputs": [
        {
          "output_type": "stream",
          "name": "stdout",
          "text": [
            "[[1, 2, 3, 4], [5, 6, 7, 8], [9, 10, 11, 12]]\n",
            "[[1, 5, 9], [2, 6, 10], [3, 7, 11], [4, 8, 12]]\n"
          ]
        }
      ]
    },
    {
      "cell_type": "code",
      "source": [
        "#tanspose of matrix with list comprehension\n",
        "transpose = [[row[i] for row in matrix] for i in range(4)]\n",
        "print(transpose)"
      ],
      "metadata": {
        "colab": {
          "base_uri": "https://localhost:8080/"
        },
        "id": "TMt_b8pokuOd",
        "outputId": "759ee78d-b302-4c9e-ba4a-cb6fcdd6cc6a"
      },
      "execution_count": null,
      "outputs": [
        {
          "output_type": "stream",
          "name": "stdout",
          "text": [
            "[[1, 5, 9], [2, 6, 10], [3, 7, 11], [4, 8, 12]]\n"
          ]
        }
      ]
    },
    {
      "cell_type": "code",
      "source": [
        "tuple = ()\n",
        "print(type(tuple))\n",
        "t1 = (1,2,3,5,7) #tuple need to end with comma\n",
        "print(t)\n",
        "print(type(t))\n",
        "print(len(t))\n",
        "t2 = (1,3,\"aryan\",10.5)\n",
        "print(t)\n",
        "t3 = t1+t2\n",
        "print(t3)"
      ],
      "metadata": {
        "colab": {
          "base_uri": "https://localhost:8080/"
        },
        "id": "oKYJSQh0lVGV",
        "outputId": "635fd2c3-399d-48b8-fda7-8ae5f453a36a"
      },
      "execution_count": null,
      "outputs": [
        {
          "output_type": "stream",
          "name": "stdout",
          "text": [
            "<class 'tuple'>\n",
            "(1, 3, 'aryan', 10.5)\n",
            "<class 'tuple'>\n",
            "4\n",
            "(1, 3, 'aryan', 10.5)\n",
            "(1, 2, 3, 5, 7, 1, 3, 'aryan', 10.5)\n"
          ]
        }
      ]
    },
    {
      "cell_type": "code",
      "source": [
        "t = (\"sumit\",) #correct way\n",
        "#t = (\"sumit\") give error\n",
        "t = \"sumit\",\n",
        "print(type(t))"
      ],
      "metadata": {
        "colab": {
          "base_uri": "https://localhost:8080/"
        },
        "id": "NPQvg63hlZHq",
        "outputId": "6a46cbb7-343b-4b4c-ff84-3762072ddc7b"
      },
      "execution_count": null,
      "outputs": [
        {
          "output_type": "stream",
          "name": "stdout",
          "text": [
            "<class 'tuple'>\n"
          ]
        }
      ]
    },
    {
      "cell_type": "code",
      "source": [
        "#we cannot delete element from tuple since it is immutable but we can delete whole tuple\n",
        "del t"
      ],
      "metadata": {
        "id": "YnWpf8r0mK4b"
      },
      "execution_count": null,
      "outputs": []
    },
    {
      "cell_type": "code",
      "source": [
        "print(t1.index(2)) #return first occurence of element"
      ],
      "metadata": {
        "colab": {
          "base_uri": "https://localhost:8080/"
        },
        "id": "6rebPM9XmdsN",
        "outputId": "adbb5d59-af2f-4c37-93b2-823e7fbefcf6"
      },
      "execution_count": null,
      "outputs": [
        {
          "output_type": "stream",
          "name": "stdout",
          "text": [
            "1\n"
          ]
        }
      ]
    },
    {
      "cell_type": "code",
      "source": [
        "s = {1,2,3,3,4}\n",
        "print(s)\n",
        "print(type(s))\n",
        "s.add(5)\n",
        "print(s)\n",
        "s.update([6,7,8])\n",
        "print(s)"
      ],
      "metadata": {
        "colab": {
          "base_uri": "https://localhost:8080/"
        },
        "id": "ugxRrGiymmL6",
        "outputId": "1005bfec-b167-43b0-9f55-d6a1244f28c8"
      },
      "execution_count": null,
      "outputs": [
        {
          "output_type": "stream",
          "name": "stdout",
          "text": [
            "{1, 2, 3, 4}\n",
            "<class 'set'>\n",
            "{1, 2, 3, 4, 5}\n",
            "{1, 2, 3, 4, 5, 6, 7, 8}\n"
          ]
        }
      ]
    },
    {
      "cell_type": "code",
      "source": [
        "s.discard(4)\n",
        "print(s)\n",
        "s.remove(2) #if the element is not present it will give error while discard does not give any error\n",
        "print(s)\n",
        "s.pop() #remove any element at random\n",
        "print(s)\n",
        "s.clear()"
      ],
      "metadata": {
        "colab": {
          "base_uri": "https://localhost:8080/"
        },
        "id": "ytWkDM_oMhJs",
        "outputId": "95033f53-ec28-4fbf-e423-150251d50c3a"
      },
      "execution_count": null,
      "outputs": [
        {
          "output_type": "stream",
          "name": "stdout",
          "text": [
            "{1, 2, 3, 5, 6, 7, 8}\n",
            "{1, 3, 5, 6, 7, 8}\n"
          ]
        }
      ]
    },
    {
      "cell_type": "code",
      "source": [
        "#set operation\n",
        "s1 = {1,2,3,4,5}\n",
        "s2 = {3,4,5,6,7}\n",
        "print(s1.union(s2)) #s1. | s2\n",
        "print(s1.intersection(s2)) #s1 & s2\n",
        "print(s1.difference(s2)) #s1 - s2\n",
        "print(s2.difference(s1)) #s2 - s1\n",
        "print(s1.symmetric_difference(s2)) #s1 ^ s2"
      ],
      "metadata": {
        "colab": {
          "base_uri": "https://localhost:8080/"
        },
        "id": "pnWNKzIrN831",
        "outputId": "70b76726-7c1e-471a-ba3a-9ab542b106bc"
      },
      "execution_count": null,
      "outputs": [
        {
          "output_type": "stream",
          "name": "stdout",
          "text": [
            "{1, 2, 3, 4, 5, 6, 7}\n",
            "{3, 4, 5}\n",
            "{1, 2}\n",
            "{6, 7}\n",
            "{1, 2, 6, 7}\n"
          ]
        }
      ]
    },
    {
      "cell_type": "code",
      "source": [
        "x = {'a','b','c','d'}\n",
        "y = {'a','b'}\n",
        "print(x.issubset(y))\n",
        "print(y.issubset(x))\n",
        "print(x.issuperset(y))"
      ],
      "metadata": {
        "colab": {
          "base_uri": "https://localhost:8080/"
        },
        "id": "MYyPrRPFOkDP",
        "outputId": "ea6a026b-d94b-4ace-a48e-4acea98d0f5b"
      },
      "execution_count": null,
      "outputs": [
        {
          "output_type": "stream",
          "name": "stdout",
          "text": [
            "False\n",
            "True\n",
            "True\n"
          ]
        }
      ]
    },
    {
      "cell_type": "code",
      "source": [
        "#frozen set are immutable set and can be used as keys in dictionary\n",
        "set1 = frozenset([1,2,3,4,5])\n",
        "set2 = frozenset([3,4,5,6,7])\n",
        "print(set1,set2)"
      ],
      "metadata": {
        "colab": {
          "base_uri": "https://localhost:8080/"
        },
        "id": "CgFfuz8xPeea",
        "outputId": "5ce81dd0-2ac5-462e-896e-d3afb126dea5"
      },
      "execution_count": null,
      "outputs": [
        {
          "output_type": "stream",
          "name": "stdout",
          "text": [
            "frozenset({1, 2, 3, 4, 5}) frozenset({3, 4, 5, 6, 7})\n"
          ]
        }
      ]
    },
    {
      "cell_type": "code",
      "source": [
        "my_dict = {}\n",
        "print(type(my_dict))\n",
        "my_dict = dict([(1,\"a\"),(2,\"b\"),(3,\"c\")])\n",
        "print(my_dict)\n",
        "print(type(my_dict))"
      ],
      "metadata": {
        "colab": {
          "base_uri": "https://localhost:8080/"
        },
        "id": "d4TMo4mbQZtW",
        "outputId": "15586cda-63cb-4533-eb1f-5cacb4b85a09"
      },
      "execution_count": null,
      "outputs": [
        {
          "output_type": "stream",
          "name": "stdout",
          "text": [
            "<class 'dict'>\n",
            "{1: 'a', 2: 'b', 3: 'c'}\n",
            "<class 'dict'>\n"
          ]
        }
      ]
    },
    {
      "cell_type": "code",
      "source": [
        "print(my_dict[1])\n",
        "print(my_dict.get(2)) #even if key is not present it will give you NONE rather than error\n",
        "my_dict[1]=\"aryan\" #updating value\n",
        "print(my_dict[1])\n",
        "my_dict[4] = \"sumit\" #inserting\n",
        "print(my_dict)\n",
        "my_dict.pop(4)\n",
        "print(my_dict)\n",
        "my_dict.popitem() #remove randome value\n",
        "del my_dict[2]\n",
        "my_dict.clear()"
      ],
      "metadata": {
        "colab": {
          "base_uri": "https://localhost:8080/"
        },
        "id": "VkB6wTggRWW7",
        "outputId": "170cb310-9cbf-4fe3-e524-336b6afb7c63"
      },
      "execution_count": null,
      "outputs": [
        {
          "output_type": "stream",
          "name": "stdout",
          "text": [
            "aryan\n",
            "b\n",
            "aryan\n",
            "{1: 'aryan', 2: 'b', 3: 'c', 4: 'sumit'}\n",
            "{1: 'aryan', 2: 'b', 3: 'c'}\n"
          ]
        }
      ]
    },
    {
      "cell_type": "code",
      "source": [
        "newDic = my_dict.copy()\n",
        "print(newDic)"
      ],
      "metadata": {
        "colab": {
          "base_uri": "https://localhost:8080/"
        },
        "id": "_rc-OMUOV6q2",
        "outputId": "c7ff236a-5bb1-43e9-8032-ac57a48c6f45"
      },
      "execution_count": null,
      "outputs": [
        {
          "output_type": "stream",
          "name": "stdout",
          "text": [
            "{1: 'aryan', 2: 'b', 3: 'c'}\n"
          ]
        }
      ]
    },
    {
      "cell_type": "code",
      "source": [
        "subjects = {}.fromkeys(['Math','English','Hindi'],0)\n",
        "print(subjects)\n",
        "print(subjects.keys())\n",
        "print(subjects.items()) #returning key-value pair tuple\n",
        "print(subjects.values())"
      ],
      "metadata": {
        "colab": {
          "base_uri": "https://localhost:8080/"
        },
        "id": "hLrwaVgjXQ42",
        "outputId": "7e8f6392-fa94-4fe4-97d1-89ec9d678816"
      },
      "execution_count": null,
      "outputs": [
        {
          "output_type": "stream",
          "name": "stdout",
          "text": [
            "{'Math': 0, 'English': 0, 'Hindi': 0}\n",
            "dict_keys(['Math', 'English', 'Hindi'])\n",
            "dict_items([('Math', 0), ('English', 0), ('Hindi', 0)])\n",
            "dict_values([0, 0, 0])\n"
          ]
        }
      ]
    },
    {
      "cell_type": "code",
      "source": [
        "dir(dict)"
      ],
      "metadata": {
        "colab": {
          "base_uri": "https://localhost:8080/"
        },
        "id": "igFRRKoVXh1e",
        "outputId": "76b2e803-3f4f-4d82-f019-be3a743d0454"
      },
      "execution_count": null,
      "outputs": [
        {
          "output_type": "execute_result",
          "data": {
            "text/plain": [
              "['__class__',\n",
              " '__class_getitem__',\n",
              " '__contains__',\n",
              " '__delattr__',\n",
              " '__delitem__',\n",
              " '__dir__',\n",
              " '__doc__',\n",
              " '__eq__',\n",
              " '__format__',\n",
              " '__ge__',\n",
              " '__getattribute__',\n",
              " '__getitem__',\n",
              " '__gt__',\n",
              " '__hash__',\n",
              " '__init__',\n",
              " '__init_subclass__',\n",
              " '__ior__',\n",
              " '__iter__',\n",
              " '__le__',\n",
              " '__len__',\n",
              " '__lt__',\n",
              " '__ne__',\n",
              " '__new__',\n",
              " '__or__',\n",
              " '__reduce__',\n",
              " '__reduce_ex__',\n",
              " '__repr__',\n",
              " '__reversed__',\n",
              " '__ror__',\n",
              " '__setattr__',\n",
              " '__setitem__',\n",
              " '__sizeof__',\n",
              " '__str__',\n",
              " '__subclasshook__',\n",
              " 'clear',\n",
              " 'copy',\n",
              " 'fromkeys',\n",
              " 'get',\n",
              " 'items',\n",
              " 'keys',\n",
              " 'pop',\n",
              " 'popitem',\n",
              " 'setdefault',\n",
              " 'update',\n",
              " 'values']"
            ]
          },
          "metadata": {},
          "execution_count": 45
        }
      ]
    },
    {
      "cell_type": "code",
      "source": [
        "for pair in subjects.items():\n",
        "  print(pair)"
      ],
      "metadata": {
        "colab": {
          "base_uri": "https://localhost:8080/"
        },
        "id": "FnxxbOP-YNJE",
        "outputId": "f5cc4ca7-3c22-480d-b053-8ca7a57b73db"
      },
      "execution_count": null,
      "outputs": [
        {
          "output_type": "stream",
          "name": "stdout",
          "text": [
            "('Math', 0)\n",
            "('English', 0)\n",
            "('Hindi', 0)\n"
          ]
        }
      ]
    },
    {
      "cell_type": "code",
      "source": [
        "dic = {1:1,2:2,3:3,4:4}\n",
        "newD = {k:v**2 for k,v in dic.items()} #dictionary comprehension\n",
        "print(newD)"
      ],
      "metadata": {
        "colab": {
          "base_uri": "https://localhost:8080/"
        },
        "id": "91YJ1yxoYZkO",
        "outputId": "42ccfd39-d421-43a4-cb31-cf3fbf34f827"
      },
      "execution_count": null,
      "outputs": [
        {
          "output_type": "stream",
          "name": "stdout",
          "text": [
            "{1: 1, 2: 4, 3: 9, 4: 16}\n"
          ]
        }
      ]
    },
    {
      "cell_type": "code",
      "source": [
        "st = \"hello world\"\n",
        "print(st.upper())\n",
        "print(st.split())\n",
        "print(st.find('or'))\n",
        "print(st.replace(\"ello\",\"lllo\"))\n",
        "r = reversed(st)\n",
        "for i in r:\n",
        "  print(i)\n",
        "s = \"this is aryan\".split()\n",
        "s.sort()\n",
        "print(s)"
      ],
      "metadata": {
        "colab": {
          "base_uri": "https://localhost:8080/"
        },
        "id": "s1TMjFonYzxf",
        "outputId": "df2c9430-da0d-4d8a-f1ee-2ca4d539c07d"
      },
      "execution_count": null,
      "outputs": [
        {
          "output_type": "stream",
          "name": "stdout",
          "text": [
            "HELLO WORLD\n",
            "['hello', 'world']\n",
            "7\n",
            "hlllo world\n",
            "d\n",
            "l\n",
            "r\n",
            "o\n",
            "w\n",
            " \n",
            "o\n",
            "l\n",
            "l\n",
            "e\n",
            "h\n",
            "['aryan', 'is', 'this']\n"
          ]
        }
      ]
    },
    {
      "cell_type": "code",
      "source": [
        "#the first string after the function header is called doc string\n",
        "def print_name():\n",
        "  \"\"\"\n",
        "  This function print name\n",
        "  \"\"\"\n",
        "print(print_name.__doc__)"
      ],
      "metadata": {
        "colab": {
          "base_uri": "https://localhost:8080/"
        },
        "id": "uVp_qM-qZqfq",
        "outputId": "9485da2c-8b78-4f2b-bf44-11d39977eaaf"
      },
      "execution_count": null,
      "outputs": [
        {
          "output_type": "stream",
          "name": "stdout",
          "text": [
            "\n",
            "  This function print name\n",
            "  \n"
          ]
        }
      ]
    },
    {
      "cell_type": "code",
      "source": [
        "#function - 1)Built in function 2)User defined function\n",
        "print(abs(-100))\n",
        "l = [1,2,3,4,5]\n",
        "print(all(l)) #return true if all elements are iterable\n",
        "l = [0,1,2,3,4] #0 is treated as false in python\n",
        "print(all(l))"
      ],
      "metadata": {
        "colab": {
          "base_uri": "https://localhost:8080/"
        },
        "id": "ETMHR2XtbeVH",
        "outputId": "c37432a6-017d-4e9f-ebfa-1ccd66755fb0"
      },
      "execution_count": null,
      "outputs": [
        {
          "output_type": "stream",
          "name": "stdout",
          "text": [
            "100\n",
            "True\n",
            "False\n"
          ]
        }
      ]
    },
    {
      "cell_type": "code",
      "source": [
        "number = [1,2,3,4]\n",
        "dir(number)"
      ],
      "metadata": {
        "colab": {
          "base_uri": "https://localhost:8080/"
        },
        "id": "gDDL1GvYcD5F",
        "outputId": "09707ead-9917-4a51-8dfa-8d41e11edad6"
      },
      "execution_count": null,
      "outputs": [
        {
          "output_type": "execute_result",
          "data": {
            "text/plain": [
              "['__add__',\n",
              " '__class__',\n",
              " '__class_getitem__',\n",
              " '__contains__',\n",
              " '__delattr__',\n",
              " '__delitem__',\n",
              " '__dir__',\n",
              " '__doc__',\n",
              " '__eq__',\n",
              " '__format__',\n",
              " '__ge__',\n",
              " '__getattribute__',\n",
              " '__getitem__',\n",
              " '__gt__',\n",
              " '__hash__',\n",
              " '__iadd__',\n",
              " '__imul__',\n",
              " '__init__',\n",
              " '__init_subclass__',\n",
              " '__iter__',\n",
              " '__le__',\n",
              " '__len__',\n",
              " '__lt__',\n",
              " '__mul__',\n",
              " '__ne__',\n",
              " '__new__',\n",
              " '__reduce__',\n",
              " '__reduce_ex__',\n",
              " '__repr__',\n",
              " '__reversed__',\n",
              " '__rmul__',\n",
              " '__setattr__',\n",
              " '__setitem__',\n",
              " '__sizeof__',\n",
              " '__str__',\n",
              " '__subclasshook__',\n",
              " 'append',\n",
              " 'clear',\n",
              " 'copy',\n",
              " 'count',\n",
              " 'extend',\n",
              " 'index',\n",
              " 'insert',\n",
              " 'pop',\n",
              " 'remove',\n",
              " 'reverse',\n",
              " 'sort']"
            ]
          },
          "metadata": {},
          "execution_count": 78
        }
      ]
    },
    {
      "cell_type": "code",
      "source": [
        "print(divmod(9,2)) #returns quotient and reminder\n",
        "for index,num in enumerate(number):\n",
        "  print(\"index {0} value {1}\".format(index,num))"
      ],
      "metadata": {
        "colab": {
          "base_uri": "https://localhost:8080/"
        },
        "id": "kme-bKnLc3nX",
        "outputId": "8c3fd8c8-7c41-4b3a-8718-67c148059565"
      },
      "execution_count": null,
      "outputs": [
        {
          "output_type": "stream",
          "name": "stdout",
          "text": [
            "(4, 1)\n",
            "index 0 value 1\n",
            "index 1 value 2\n",
            "index 2 value 3\n",
            "index 3 value 4\n"
          ]
        }
      ]
    },
    {
      "cell_type": "code",
      "source": [
        "def positive(x):\n",
        "  if x>=0:\n",
        "    return x\n",
        "num = range(-10,10)\n",
        "print(list(num))\n",
        "pos = list(filter(positive,num))\n",
        "print(pos)"
      ],
      "metadata": {
        "colab": {
          "base_uri": "https://localhost:8080/"
        },
        "id": "UpQa9tH_dGpF",
        "outputId": "7b8855d0-9e6f-4fb1-a9eb-ba371917cdd8"
      },
      "execution_count": null,
      "outputs": [
        {
          "output_type": "stream",
          "name": "stdout",
          "text": [
            "[-10, -9, -8, -7, -6, -5, -4, -3, -2, -1, 0, 1, 2, 3, 4, 5, 6, 7, 8, 9]\n",
            "[1, 2, 3, 4, 5, 6, 7, 8, 9]\n"
          ]
        }
      ]
    },
    {
      "cell_type": "code",
      "source": [
        "#map applies a functions to all items in input list\n",
        "def square(x):\n",
        "  return x**2\n",
        "sq = list(map(square,pos))\n",
        "print(sq)"
      ],
      "metadata": {
        "colab": {
          "base_uri": "https://localhost:8080/"
        },
        "id": "tNCdtlYieG4l",
        "outputId": "40e1ea53-6b7a-43cd-e796-7f3f5f6a1cd4"
      },
      "execution_count": null,
      "outputs": [
        {
          "output_type": "stream",
          "name": "stdout",
          "text": [
            "[1, 4, 9, 16, 25, 36, 49, 64, 81]\n"
          ]
        }
      ]
    },
    {
      "cell_type": "code",
      "source": [
        "#reduce perform some computation on a list and return the result\n",
        "from functools import reduce\n",
        "def pro(x,y):\n",
        "  return x*y\n",
        "pro = reduce(pro,pos)\n",
        "print(pro)"
      ],
      "metadata": {
        "colab": {
          "base_uri": "https://localhost:8080/"
        },
        "id": "7VCNSpMrfQg9",
        "outputId": "bc93b7e6-f8b3-4d96-e595-cec40b1ee834"
      },
      "execution_count": null,
      "outputs": [
        {
          "output_type": "stream",
          "name": "stdout",
          "text": [
            "362880\n"
          ]
        }
      ]
    },
    {
      "cell_type": "code",
      "source": [
        "def print_name(**kwargs):\n",
        "  print(\"name = {} and class = {}\".format(kwargs['name'],kwargs['classed']))\n",
        "print_name(name=\"aryan\",classed=\"mca\")"
      ],
      "metadata": {
        "colab": {
          "base_uri": "https://localhost:8080/"
        },
        "id": "_hubHPh1f0bG",
        "outputId": "95e2c7d2-68a2-45e1-a871-00904efa5fff"
      },
      "execution_count": null,
      "outputs": [
        {
          "output_type": "stream",
          "name": "stdout",
          "text": [
            "name = aryan and class = mca\n"
          ]
        }
      ]
    },
    {
      "cell_type": "code",
      "source": [
        "#arbitarary arguments\n",
        "#passing several number of argument\n",
        "def print_name(*name):\n",
        "  for name in name:\n",
        "    print(name)\n",
        "print_name('sumit','vikas','abhay')"
      ],
      "metadata": {
        "colab": {
          "base_uri": "https://localhost:8080/"
        },
        "id": "uUSe-UPFg0Nv",
        "outputId": "c7e5a19e-a661-4fca-a1e0-c07dd9f9d104"
      },
      "execution_count": null,
      "outputs": [
        {
          "output_type": "stream",
          "name": "stdout",
          "text": [
            "sumit\n",
            "vikas\n",
            "abhay\n"
          ]
        }
      ]
    },
    {
      "cell_type": "code",
      "source": [
        "#lambda function or anonymous function\n",
        "prod = lambda x:x*2\n",
        "print(prod(10))"
      ],
      "metadata": {
        "colab": {
          "base_uri": "https://localhost:8080/"
        },
        "id": "ok0MmOA0hY7-",
        "outputId": "b68253a5-ce7b-4214-c275-3ea2980cc0f0"
      },
      "execution_count": null,
      "outputs": [
        {
          "output_type": "stream",
          "name": "stdout",
          "text": [
            "20\n"
          ]
        }
      ]
    },
    {
      "cell_type": "code",
      "source": [
        "from datetime import datetime #module of datetime\n",
        "print(datetime.now())"
      ],
      "metadata": {
        "id": "ntXFGE8Kh2o5",
        "colab": {
          "base_uri": "https://localhost:8080/"
        },
        "outputId": "e573a7f8-78d6-49cc-cf0a-8d92cc8369c0"
      },
      "execution_count": 3,
      "outputs": [
        {
          "output_type": "stream",
          "name": "stdout",
          "text": [
            "2023-08-22 15:26:19.335161\n"
          ]
        }
      ]
    },
    {
      "cell_type": "code",
      "source": [
        "#packages are the structuring python modules namespace by using \"dotted module name\"\n",
        "#directory must contain file name __init__.py in order for python to consider it python package\n",
        "#to import package from module use : import game.images.open"
      ],
      "metadata": {
        "id": "2WopX2g_2Scy"
      },
      "execution_count": null,
      "outputs": []
    },
    {
      "cell_type": "code",
      "source": [
        "f = open(\"/content/sample_data/addDigits.txt\") #defualt mode is read mode (r)\n",
        "f.close() #python have garbage collector to clean up unreferenced object"
      ],
      "metadata": {
        "id": "q-WjDjFs4M9D"
      },
      "execution_count": 10,
      "outputs": []
    },
    {
      "cell_type": "code",
      "source": [
        "try:\n",
        "  f = open(\"/content/sample_data/addDigits.txt\")\n",
        "finally:\n",
        "  f.close()"
      ],
      "metadata": {
        "id": "nu-wMlZP4t8_"
      },
      "execution_count": 14,
      "outputs": []
    },
    {
      "cell_type": "code",
      "source": [
        "try:\n",
        "  f = open(\"/content/sample_data/test.txt\",\"w\")\n",
        "  f.write(\"this is test file\")\n",
        "finally:\n",
        "  f.close()"
      ],
      "metadata": {
        "id": "lVXj6kjz6b6O"
      },
      "execution_count": 16,
      "outputs": []
    },
    {
      "cell_type": "code",
      "source": [
        "f = open(\"/content/sample_data/test.txt\",\"r\")\n",
        "print(f.read()) #we can pass size as argument in read() to get sized answer\n",
        "print(f.tell())\n",
        "f.seek(0) #to move my cursor back position\n",
        "print(f.tell())"
      ],
      "metadata": {
        "colab": {
          "base_uri": "https://localhost:8080/"
        },
        "id": "vGD6Fi0L60aW",
        "outputId": "6e4425be-27c8-4732-ca06-40862e68a828"
      },
      "execution_count": 26,
      "outputs": [
        {
          "output_type": "stream",
          "name": "stdout",
          "text": [
            "this is test file\n",
            "17\n",
            "0\n"
          ]
        }
      ]
    },
    {
      "cell_type": "code",
      "source": [
        "f = open(\"/content/sample_data/addDigits.txt\",\"r\")\n",
        "print(f.readline())\n",
        "print(f.readline())"
      ],
      "metadata": {
        "colab": {
          "base_uri": "https://localhost:8080/"
        },
        "id": "xywtFafP7bE9",
        "outputId": "1f2a1197-8354-428f-b98d-cea9a6acce3f"
      },
      "execution_count": 29,
      "outputs": [
        {
          "output_type": "stream",
          "name": "stdout",
          "text": [
            "class Solution {\n",
            "\n",
            "public:\n",
            "\n"
          ]
        }
      ]
    },
    {
      "cell_type": "code",
      "source": [
        "f.readlines()"
      ],
      "metadata": {
        "colab": {
          "base_uri": "https://localhost:8080/"
        },
        "id": "n6EWtx7R8aZ_",
        "outputId": "75609b6e-91eb-4165-fea3-c488b0f1fb26"
      },
      "execution_count": 30,
      "outputs": [
        {
          "output_type": "execute_result",
          "data": {
            "text/plain": [
              "['    int addDigits(int num) {\\n',\n",
              " '        if(num == 0)\\n',\n",
              " '            return 0;\\n',\n",
              " '        return 1+(num-1)%9;\\n',\n",
              " '    }\\n',\n",
              " '};']"
            ]
          },
          "metadata": {},
          "execution_count": 30
        }
      ]
    },
    {
      "cell_type": "code",
      "source": [
        "import os #all renaming/deleting a file need os module\n",
        "os.rename(\"/content/sample_data/test.txt\",\"/content/sample_data/sample.txt\")"
      ],
      "metadata": {
        "id": "qaNjHJg38s7O"
      },
      "execution_count": 31,
      "outputs": []
    },
    {
      "cell_type": "code",
      "source": [
        "f = open(\"/content/sample_data/test.txt\",\"w\")"
      ],
      "metadata": {
        "id": "MAD0T2i09GZb"
      },
      "execution_count": 34,
      "outputs": []
    },
    {
      "cell_type": "code",
      "source": [
        "os.remove(\"/content/sample_data/test.txt\")"
      ],
      "metadata": {
        "id": "7BGaAS3C9Ykg"
      },
      "execution_count": 35,
      "outputs": []
    },
    {
      "cell_type": "code",
      "source": [
        "os.getcwd() #to get working directory\n",
        "#to change working directory os.chdir()"
      ],
      "metadata": {
        "colab": {
          "base_uri": "https://localhost:8080/",
          "height": 35
        },
        "id": "6oeYJDY09g37",
        "outputId": "f850aa4b-1704-4f9a-b3d7-671065540aa4"
      },
      "execution_count": 36,
      "outputs": [
        {
          "output_type": "execute_result",
          "data": {
            "text/plain": [
              "'/content'"
            ],
            "application/vnd.google.colaboratory.intrinsic+json": {
              "type": "string"
            }
          },
          "metadata": {},
          "execution_count": 36
        }
      ]
    },
    {
      "cell_type": "code",
      "source": [
        "os.listdir(os.getcwd()) #to get the list of all directories in current working directory"
      ],
      "metadata": {
        "colab": {
          "base_uri": "https://localhost:8080/"
        },
        "id": "j9EKxgyM9kkS",
        "outputId": "d5a3e7af-e076-4808-ea45-73c56a5b4b0f"
      },
      "execution_count": 38,
      "outputs": [
        {
          "output_type": "execute_result",
          "data": {
            "text/plain": [
              "['.config', 'sample_data', '.ipynb_checkpoints']"
            ]
          },
          "metadata": {},
          "execution_count": 38
        }
      ]
    },
    {
      "cell_type": "code",
      "source": [
        "os.mkdir() #to make new directory\n",
        "os.rmdir() #to remove empty directories"
      ],
      "metadata": {
        "id": "9Z5oCzf598-n"
      },
      "execution_count": null,
      "outputs": []
    },
    {
      "cell_type": "code",
      "source": [
        "import shutil\n",
        "shutil.rmtree() #to remove non empty directory"
      ],
      "metadata": {
        "id": "nnJ7_Ht6-yq8"
      },
      "execution_count": null,
      "outputs": []
    },
    {
      "cell_type": "code",
      "source": [
        "import sys\n",
        "sys.exc_info()"
      ],
      "metadata": {
        "colab": {
          "base_uri": "https://localhost:8080/"
        },
        "id": "rn7m9Cto_AyW",
        "outputId": "5619225d-4a9c-475f-87bb-1f1d6ce3a468"
      },
      "execution_count": 39,
      "outputs": [
        {
          "output_type": "execute_result",
          "data": {
            "text/plain": [
              "(None, None, None)"
            ]
          },
          "metadata": {},
          "execution_count": 39
        }
      ]
    },
    {
      "cell_type": "code",
      "source": [
        "#debugging\n",
        "#pdb is module stands for python debugger\n",
        "import pdb\n",
        "def seq(n):\n",
        "  for i in range(n):\n",
        "    pdb.set_trace() #breakpoint\n",
        "    print(i)\n",
        "  return\n",
        "seq(10)\n"
      ],
      "metadata": {
        "colab": {
          "base_uri": "https://localhost:8080/"
        },
        "id": "ZTuJ3C1J_QIf",
        "outputId": "69b03f3d-0619-469a-a4ff-080c71966dfd"
      },
      "execution_count": 40,
      "outputs": [
        {
          "output_type": "stream",
          "name": "stderr",
          "text": [
            "\n",
            "PYDEV DEBUGGER WARNING:\n",
            "sys.settrace() should not be used when the debugger is being used.\n",
            "This may cause the debugger to stop working correctly.\n",
            "If this is needed, please check: \n",
            "http://pydev.blogspot.com/2007/06/why-cant-pydev-debugger-work-with.html\n",
            "to see how to restore the debug tracing back correctly.\n",
            "Call Location:\n",
            "  File \"/usr/lib/python3.10/bdb.py\", line 336, in set_trace\n",
            "    sys.settrace(self.trace_dispatch)\n",
            "\n"
          ]
        },
        {
          "name": "stdout",
          "output_type": "stream",
          "text": [
            "> \u001b[0;32m<ipython-input-40-dc278b68d427>\u001b[0m(7)\u001b[0;36mseq\u001b[0;34m()\u001b[0m\n",
            "\u001b[0;32m      5 \u001b[0;31m  \u001b[0;32mfor\u001b[0m \u001b[0mi\u001b[0m \u001b[0;32min\u001b[0m \u001b[0mrange\u001b[0m\u001b[0;34m(\u001b[0m\u001b[0mn\u001b[0m\u001b[0;34m)\u001b[0m\u001b[0;34m:\u001b[0m\u001b[0;34m\u001b[0m\u001b[0;34m\u001b[0m\u001b[0m\n",
            "\u001b[0m\u001b[0;32m      6 \u001b[0;31m    \u001b[0mpdb\u001b[0m\u001b[0;34m.\u001b[0m\u001b[0mset_trace\u001b[0m\u001b[0;34m(\u001b[0m\u001b[0;34m)\u001b[0m \u001b[0;31m#breakpoint\u001b[0m\u001b[0;34m\u001b[0m\u001b[0;34m\u001b[0m\u001b[0m\n",
            "\u001b[0m\u001b[0;32m----> 7 \u001b[0;31m    \u001b[0mprint\u001b[0m\u001b[0;34m(\u001b[0m\u001b[0mi\u001b[0m\u001b[0;34m)\u001b[0m\u001b[0;34m\u001b[0m\u001b[0;34m\u001b[0m\u001b[0m\n",
            "\u001b[0m\u001b[0;32m      8 \u001b[0;31m  \u001b[0;32mreturn\u001b[0m\u001b[0;34m\u001b[0m\u001b[0;34m\u001b[0m\u001b[0m\n",
            "\u001b[0m\u001b[0;32m      9 \u001b[0;31m\u001b[0mseq\u001b[0m\u001b[0;34m(\u001b[0m\u001b[0;36m10\u001b[0m\u001b[0;34m)\u001b[0m\u001b[0;34m\u001b[0m\u001b[0;34m\u001b[0m\u001b[0m\n",
            "\u001b[0m\n",
            "ipdb> list\n",
            "\u001b[1;32m      2 \u001b[0m\u001b[0;31m#pdb is module stands for python debugger\u001b[0m\u001b[0;34m\u001b[0m\u001b[0;34m\u001b[0m\u001b[0m\n",
            "\u001b[1;32m      3 \u001b[0m\u001b[0;32mimport\u001b[0m \u001b[0mpdb\u001b[0m\u001b[0;34m\u001b[0m\u001b[0;34m\u001b[0m\u001b[0m\n",
            "\u001b[1;32m      4 \u001b[0m\u001b[0;32mdef\u001b[0m \u001b[0mseq\u001b[0m\u001b[0;34m(\u001b[0m\u001b[0mn\u001b[0m\u001b[0;34m)\u001b[0m\u001b[0;34m:\u001b[0m\u001b[0;34m\u001b[0m\u001b[0;34m\u001b[0m\u001b[0m\n",
            "\u001b[1;32m      5 \u001b[0m  \u001b[0;32mfor\u001b[0m \u001b[0mi\u001b[0m \u001b[0;32min\u001b[0m \u001b[0mrange\u001b[0m\u001b[0;34m(\u001b[0m\u001b[0mn\u001b[0m\u001b[0;34m)\u001b[0m\u001b[0;34m:\u001b[0m\u001b[0;34m\u001b[0m\u001b[0;34m\u001b[0m\u001b[0m\n",
            "\u001b[1;32m      6 \u001b[0m    \u001b[0mpdb\u001b[0m\u001b[0;34m.\u001b[0m\u001b[0mset_trace\u001b[0m\u001b[0;34m(\u001b[0m\u001b[0;34m)\u001b[0m \u001b[0;31m#breakpoint\u001b[0m\u001b[0;34m\u001b[0m\u001b[0;34m\u001b[0m\u001b[0m\n",
            "\u001b[0;32m----> 7 \u001b[0;31m    \u001b[0mprint\u001b[0m\u001b[0;34m(\u001b[0m\u001b[0mi\u001b[0m\u001b[0;34m)\u001b[0m\u001b[0;34m\u001b[0m\u001b[0;34m\u001b[0m\u001b[0m\n",
            "\u001b[0m\u001b[1;32m      8 \u001b[0m  \u001b[0;32mreturn\u001b[0m\u001b[0;34m\u001b[0m\u001b[0;34m\u001b[0m\u001b[0m\n",
            "\u001b[1;32m      9 \u001b[0m\u001b[0mseq\u001b[0m\u001b[0;34m(\u001b[0m\u001b[0;36m10\u001b[0m\u001b[0;34m)\u001b[0m\u001b[0;34m\u001b[0m\u001b[0;34m\u001b[0m\u001b[0m\n",
            "\n",
            "ipdb> p i\n",
            "0\n",
            "ipdb> p locals()\n",
            "{'n': 10, 'i': 0}\n",
            "ipdb> p globals()\n",
            "{'__name__': '__main__', '__doc__': 'Automatically created module for IPython interactive environment', '__package__': None, '__loader__': None, '__spec__': None, '__builtin__': <module 'builtins' (built-in)>, '__builtins__': <module 'builtins' (built-in)>, '_ih': ['', 'import datatime\\nprint(datetime.datetime.now())', 'from datetime import datatime\\nprint(datetime.now())', 'from datetime import datetime\\nprint(datetime.now())', 'f = open(\"README.md\")', 'f = open(\"/README.md\")', 'f = open(\"/content/sample_data/addDigits.txt\")', 'f = open(\"/content/sample_data/new.txt\")', 'f = open(\"/content/sample_data/addDigits.txt\")', 'f = open(\"/content/sample_data/addDigits.txt\")\\nprint(f)', 'f = open(\"/content/sample_data/addDigits.txt\") #defualt mode is read mode (r)\\nf.close()', 'try:\\n  f = open(\"//content/sample_data/addDigits.txt\")\\nfinally:\\n  f.close()', 'try:\\n  f = open(\"/content/sample_data/test.txt\",\"w\")\\n  f.write(\"this is test file\")\\nfinally:\\n  f.close()', 'try:\\n  f = open(\"/content/sample_data/addDigits.txt\")\\n  f.read()\\nfinally:\\n  f.close()', 'try:\\n  f = open(\"/content/sample_data/addDigits.txt\",\"r\")\\n  f.read()\\nfinally:\\n  f.close()', 'try:\\n  f = open(\"/content/sample_data/test.txt\",\"w\")\\n  f.write(\"this is test file\")\\n  f.read()\\nfinally:\\n  f.close()', 'try:\\n  f = open(\"/content/sample_data/test.txt\",\"w\")\\n  f.write(\"this is test file\")\\nfinally:\\n  f.close()', 'try:\\n  f = open(\"/content/sample_data/test.txt\",\"r\")\\n  f.read()\\nfinally:\\n  f.close()', 'try:\\n  f = open(\"/content/sample_data/test.txt\",\"r\")\\n  f.read(4)\\nfinally:\\n  f.close()', 'try:\\n  f = open(\"/content/sample_data/test.txt\",\"r\")\\n  f.read(4)\\n  f.tell()\\nfinally:\\n  f.close()', 'try:\\n  f = open(\"/content/sample_data/test.txt\",\"r\")\\n  f.read(4)', 'f = open(\"/content/sample_data/test.txt\",\"r\")\\nf.read(4)', 'f = open(\"/content/sample_data/test.txt\",\"r\")\\nf.read()', 'f = open(\"/content/sample_data/test.txt\",\"r\")\\nf.read() #we can pass size as argument in read() to get sized answer\\nf.tell()', 'f = open(\"/content/sample_data/test.txt\",\"r\")\\nprint(f.read()) #we can pass size as argument in read() to get sized answer\\nf.tell()', 'f = open(\"/content/sample_data/test.txt\",\"r\")\\nprint(f.read()) #we can pass size as argument in read() to get sized answer\\nprint(f.tell())', 'f = open(\"/content/sample_data/test.txt\",\"r\")\\nprint(f.read()) #we can pass size as argument in read() to get sized answer\\nprint(f.tell())\\nf.seek(0)\\nprint(f.tell())', 'f = open(\"/content/sample_data/addDigit.txt\",\"r\")\\nf.readline()', 'f = open(\"/content/sample_data/addDigits.txt\",\"r\")\\nf.readline()', 'f = open(\"/content/sample_data/addDigits.txt\",\"r\")\\nprint(f.readline())\\nprint(f.readline())', 'f.readlines()', 'import os #all renaming/deleting a file need os module\\nos.rename(\"/content/sample_data/test.txt\",\"/content/sample_data/sample.txt\")', 'f = open(\"/content/sample_data/test.txt\")\\nos.remove(\"/content/sample_data/test.txt\")', 'f = open(\"/content/sample_data/test.txt\",\"w\")\\nos.remove(\"/content/sample_data/test.txt\")', 'f = open(\"/content/sample_data/test.txt\",\"w\")', 'os.remove(\"/content/sample_data/test.txt\")', 'os.getcwd()', 'os.dir()', 'os.listdir(os.getcwd())', 'import sys\\nsys.exc_info()', '#debugging\\n#pdb is module stands for python debugger\\nimport pdb\\ndef seq(n):\\n  for i in range(n):\\n    pdb.set_trace() #breakpoint\\n    print(i)\\n  return \\nseq(10)'], '_oh': {21: 'this', 22: 'this is test file', 23: 17, 24: 17, 28: 'class Solution {\\n', 30: ['    int addDigits(int num) {\\n', '        if(num == 0)\\n', '            return 0;\\n', '        return 1+(num-1)%9;\\n', '    }\\n', '};'], 36: '/content', 38: ['.config', 'sample_data', '.ipynb_checkpoints'], 39: (None, None, None)}, '_dh': ['/content'], 'In': ['', 'import datatime\\nprint(datetime.datetime.now())', 'from datetime import datatime\\nprint(datetime.now())', 'from datetime import datetime\\nprint(datetime.now())', 'f = open(\"README.md\")', 'f = open(\"/README.md\")', 'f = open(\"/content/sample_data/addDigits.txt\")', 'f = open(\"/content/sample_data/new.txt\")', 'f = open(\"/content/sample_data/addDigits.txt\")', 'f = open(\"/content/sample_data/addDigits.txt\")\\nprint(f)', 'f = open(\"/content/sample_data/addDigits.txt\") #defualt mode is read mode (r)\\nf.close()', 'try:\\n  f = open(\"//content/sample_data/addDigits.txt\")\\nfinally:\\n  f.close()', 'try:\\n  f = open(\"/content/sample_data/test.txt\",\"w\")\\n  f.write(\"this is test file\")\\nfinally:\\n  f.close()', 'try:\\n  f = open(\"/content/sample_data/addDigits.txt\")\\n  f.read()\\nfinally:\\n  f.close()', 'try:\\n  f = open(\"/content/sample_data/addDigits.txt\",\"r\")\\n  f.read()\\nfinally:\\n  f.close()', 'try:\\n  f = open(\"/content/sample_data/test.txt\",\"w\")\\n  f.write(\"this is test file\")\\n  f.read()\\nfinally:\\n  f.close()', 'try:\\n  f = open(\"/content/sample_data/test.txt\",\"w\")\\n  f.write(\"this is test file\")\\nfinally:\\n  f.close()', 'try:\\n  f = open(\"/content/sample_data/test.txt\",\"r\")\\n  f.read()\\nfinally:\\n  f.close()', 'try:\\n  f = open(\"/content/sample_data/test.txt\",\"r\")\\n  f.read(4)\\nfinally:\\n  f.close()', 'try:\\n  f = open(\"/content/sample_data/test.txt\",\"r\")\\n  f.read(4)\\n  f.tell()\\nfinally:\\n  f.close()', 'try:\\n  f = open(\"/content/sample_data/test.txt\",\"r\")\\n  f.read(4)', 'f = open(\"/content/sample_data/test.txt\",\"r\")\\nf.read(4)', 'f = open(\"/content/sample_data/test.txt\",\"r\")\\nf.read()', 'f = open(\"/content/sample_data/test.txt\",\"r\")\\nf.read() #we can pass size as argument in read() to get sized answer\\nf.tell()', 'f = open(\"/content/sample_data/test.txt\",\"r\")\\nprint(f.read()) #we can pass size as argument in read() to get sized answer\\nf.tell()', 'f = open(\"/content/sample_data/test.txt\",\"r\")\\nprint(f.read()) #we can pass size as argument in read() to get sized answer\\nprint(f.tell())', 'f = open(\"/content/sample_data/test.txt\",\"r\")\\nprint(f.read()) #we can pass size as argument in read() to get sized answer\\nprint(f.tell())\\nf.seek(0)\\nprint(f.tell())', 'f = open(\"/content/sample_data/addDigit.txt\",\"r\")\\nf.readline()', 'f = open(\"/content/sample_data/addDigits.txt\",\"r\")\\nf.readline()', 'f = open(\"/content/sample_data/addDigits.txt\",\"r\")\\nprint(f.readline())\\nprint(f.readline())', 'f.readlines()', 'import os #all renaming/deleting a file need os module\\nos.rename(\"/content/sample_data/test.txt\",\"/content/sample_data/sample.txt\")', 'f = open(\"/content/sample_data/test.txt\")\\nos.remove(\"/content/sample_data/test.txt\")', 'f = open(\"/content/sample_data/test.txt\",\"w\")\\nos.remove(\"/content/sample_data/test.txt\")', 'f = open(\"/content/sample_data/test.txt\",\"w\")', 'os.remove(\"/content/sample_data/test.txt\")', 'os.getcwd()', 'os.dir()', 'os.listdir(os.getcwd())', 'import sys\\nsys.exc_info()', '#debugging\\n#pdb is module stands for python debugger\\nimport pdb\\ndef seq(n):\\n  for i in range(n):\\n    pdb.set_trace() #breakpoint\\n    print(i)\\n  return \\nseq(10)'], 'Out': {21: 'this', 22: 'this is test file', 23: 17, 24: 17, 28: 'class Solution {\\n', 30: ['    int addDigits(int num) {\\n', '        if(num == 0)\\n', '            return 0;\\n', '        return 1+(num-1)%9;\\n', '    }\\n', '};'], 36: '/content', 38: ['.config', 'sample_data', '.ipynb_checkpoints'], 39: (None, None, None)}, 'get_ipython': <bound method InteractiveShell.get_ipython of <google.colab._shell.Shell object at 0x78c61e19e050>>, 'exit': <IPython.core.autocall.ZMQExitAutocall object at 0x78c61e19e5f0>, 'quit': <IPython.core.autocall.ZMQExitAutocall object at 0x78c61e19e5f0>, '_': (None, None, None), '__': ['.config', 'sample_data', '.ipynb_checkpoints'], '___': '/content', '_i': 'import sys\\nsys.exc_info()', '_ii': 'os.listdir(os.getcwd())', '_iii': 'os.dir()', '_i1': 'import datatime\\nprint(datetime.datetime.now())', '_i2': 'from datetime import datatime\\nprint(datetime.now())', '_i3': 'from datetime import datetime\\nprint(datetime.now())', 'datetime': <class 'datetime.datetime'>, '_i4': 'f = open(\"README.md\")', '_i5': 'f = open(\"/README.md\")', '_i6': 'f = open(\"/content/sample_data/addDigits.txt\")', 'f': <_io.TextIOWrapper name='/content/sample_data/test.txt' mode='w' encoding='UTF-8'>, '_i7': 'f = open(\"/content/sample_data/new.txt\")', '_i8': 'f = open(\"/content/sample_data/addDigits.txt\")', '_i9': 'f = open(\"/content/sample_data/addDigits.txt\")\\nprint(f)', '_i10': 'f = open(\"/content/sample_data/addDigits.txt\") #defualt mode is read mode (r)\\nf.close()', '_i11': 'try:\\n  f = open(\"//content/sample_data/addDigits.txt\")\\nfinally:\\n  f.close()', '_i12': 'try:\\n  f = open(\"/content/sample_data/test.txt\",\"w\")\\n  f.write(\"this is test file\")\\nfinally:\\n  f.close()', '_i13': 'try:\\n  f = open(\"/content/sample_data/addDigits.txt\")\\n  f.read()\\nfinally:\\n  f.close()', '_i14': 'try:\\n  f = open(\"/content/sample_data/addDigits.txt\",\"r\")\\n  f.read()\\nfinally:\\n  f.close()', '_i15': 'try:\\n  f = open(\"/content/sample_data/test.txt\",\"w\")\\n  f.write(\"this is test file\")\\n  f.read()\\nfinally:\\n  f.close()', '_i16': 'try:\\n  f = open(\"/content/sample_data/test.txt\",\"w\")\\n  f.write(\"this is test file\")\\nfinally:\\n  f.close()', '_i17': 'try:\\n  f = open(\"/content/sample_data/test.txt\",\"r\")\\n  f.read()\\nfinally:\\n  f.close()', '_i18': 'try:\\n  f = open(\"/content/sample_data/test.txt\",\"r\")\\n  f.read(4)\\nfinally:\\n  f.close()', '_i19': 'try:\\n  f = open(\"/content/sample_data/test.txt\",\"r\")\\n  f.read(4)\\n  f.tell()\\nfinally:\\n  f.close()', '_i20': 'try:\\n  f = open(\"/content/sample_data/test.txt\",\"r\")\\n  f.read(4)', '_i21': 'f = open(\"/content/sample_data/test.txt\",\"r\")\\nf.read(4)', '_21': 'this', '_i22': 'f = open(\"/content/sample_data/test.txt\",\"r\")\\nf.read()', '_22': 'this is test file', '_i23': 'f = open(\"/content/sample_data/test.txt\",\"r\")\\nf.read() #we can pass size as argument in read() to get sized answer\\nf.tell()', '_23': 17, '_i24': 'f = open(\"/content/sample_data/test.txt\",\"r\")\\nprint(f.read()) #we can pass size as argument in read() to get sized answer\\nf.tell()', '_24': 17, '_i25': 'f = open(\"/content/sample_data/test.txt\",\"r\")\\nprint(f.read()) #we can pass size as argument in read() to get sized answer\\nprint(f.tell())', '_i26': 'f = open(\"/content/sample_data/test.txt\",\"r\")\\nprint(f.read()) #we can pass size as argument in read() to get sized answer\\nprint(f.tell())\\nf.seek(0)\\nprint(f.tell())', '_i27': 'f = open(\"/content/sample_data/addDigit.txt\",\"r\")\\nf.readline()', '_i28': 'f = open(\"/content/sample_data/addDigits.txt\",\"r\")\\nf.readline()', '_28': 'class Solution {\\n', '_i29': 'f = open(\"/content/sample_data/addDigits.txt\",\"r\")\\nprint(f.readline())\\nprint(f.readline())', '_i30': 'f.readlines()', '_30': ['    int addDigits(int num) {\\n', '        if(num == 0)\\n', '            return 0;\\n', '        return 1+(num-1)%9;\\n', '    }\\n', '};'], '_i31': 'import os #all renaming/deleting a file need os module\\nos.rename(\"/content/sample_data/test.txt\",\"/content/sample_data/sample.txt\")', 'os': <module 'os' from '/usr/lib/python3.10/os.py'>, '_i32': 'f = open(\"/content/sample_data/test.txt\")\\nos.remove(\"/content/sample_data/test.txt\")', '_i33': 'f = open(\"/content/sample_data/test.txt\",\"w\")\\nos.remove(\"/content/sample_data/test.txt\")', '_i34': 'f = open(\"/content/sample_data/test.txt\",\"w\")', '_i35': 'os.remove(\"/content/sample_data/test.txt\")', '_i36': 'os.getcwd()', '_36': '/content', '_i37': 'os.dir()', '_i38': 'os.listdir(os.getcwd())', '_38': ['.config', 'sample_data', '.ipynb_checkpoints'], '_i39': 'import sys\\nsys.exc_info()', 'sys': <module 'sys' (built-in)>, '_39': (None, None, None), '_i40': '#debugging\\n#pdb is module stands for python debugger\\nimport pdb\\ndef seq(n):\\n  for i in range(n):\\n    pdb.set_trace() #breakpoint\\n    print(i)\\n  return \\nseq(10)', 'pdb': <module 'pdb' from '/usr/lib/python3.10/pdb.py'>, 'seq': <function seq at 0x78c5da815cf0>}\n",
            "ipdb> p c\n",
            "*** NameError: name 'c' is not defined\n",
            "ipdb> c\n"
          ]
        },
        {
          "output_type": "stream",
          "name": "stderr",
          "text": [
            "\n",
            "PYDEV DEBUGGER WARNING:\n",
            "sys.settrace() should not be used when the debugger is being used.\n",
            "This may cause the debugger to stop working correctly.\n",
            "If this is needed, please check: \n",
            "http://pydev.blogspot.com/2007/06/why-cant-pydev-debugger-work-with.html\n",
            "to see how to restore the debug tracing back correctly.\n",
            "Call Location:\n",
            "  File \"/usr/lib/python3.10/bdb.py\", line 347, in set_continue\n",
            "    sys.settrace(None)\n",
            "\n"
          ]
        },
        {
          "name": "stdout",
          "output_type": "stream",
          "text": [
            "0\n",
            "> \u001b[0;32m<ipython-input-40-dc278b68d427>\u001b[0m(7)\u001b[0;36mseq\u001b[0;34m()\u001b[0m\n",
            "\u001b[0;32m      5 \u001b[0;31m  \u001b[0;32mfor\u001b[0m \u001b[0mi\u001b[0m \u001b[0;32min\u001b[0m \u001b[0mrange\u001b[0m\u001b[0;34m(\u001b[0m\u001b[0mn\u001b[0m\u001b[0;34m)\u001b[0m\u001b[0;34m:\u001b[0m\u001b[0;34m\u001b[0m\u001b[0;34m\u001b[0m\u001b[0m\n",
            "\u001b[0m\u001b[0;32m      6 \u001b[0;31m    \u001b[0mpdb\u001b[0m\u001b[0;34m.\u001b[0m\u001b[0mset_trace\u001b[0m\u001b[0;34m(\u001b[0m\u001b[0;34m)\u001b[0m \u001b[0;31m#breakpoint\u001b[0m\u001b[0;34m\u001b[0m\u001b[0;34m\u001b[0m\u001b[0m\n",
            "\u001b[0m\u001b[0;32m----> 7 \u001b[0;31m    \u001b[0mprint\u001b[0m\u001b[0;34m(\u001b[0m\u001b[0mi\u001b[0m\u001b[0;34m)\u001b[0m\u001b[0;34m\u001b[0m\u001b[0;34m\u001b[0m\u001b[0m\n",
            "\u001b[0m\u001b[0;32m      8 \u001b[0;31m  \u001b[0;32mreturn\u001b[0m\u001b[0;34m\u001b[0m\u001b[0;34m\u001b[0m\u001b[0m\n",
            "\u001b[0m\u001b[0;32m      9 \u001b[0;31m\u001b[0mseq\u001b[0m\u001b[0;34m(\u001b[0m\u001b[0;36m10\u001b[0m\u001b[0;34m)\u001b[0m\u001b[0;34m\u001b[0m\u001b[0;34m\u001b[0m\u001b[0m\n",
            "\u001b[0m\n",
            "ipdb> list\n",
            "\u001b[1;32m      2 \u001b[0m\u001b[0;31m#pdb is module stands for python debugger\u001b[0m\u001b[0;34m\u001b[0m\u001b[0;34m\u001b[0m\u001b[0m\n",
            "\u001b[1;32m      3 \u001b[0m\u001b[0;32mimport\u001b[0m \u001b[0mpdb\u001b[0m\u001b[0;34m\u001b[0m\u001b[0;34m\u001b[0m\u001b[0m\n",
            "\u001b[1;32m      4 \u001b[0m\u001b[0;32mdef\u001b[0m \u001b[0mseq\u001b[0m\u001b[0;34m(\u001b[0m\u001b[0mn\u001b[0m\u001b[0;34m)\u001b[0m\u001b[0;34m:\u001b[0m\u001b[0;34m\u001b[0m\u001b[0;34m\u001b[0m\u001b[0m\n",
            "\u001b[1;32m      5 \u001b[0m  \u001b[0;32mfor\u001b[0m \u001b[0mi\u001b[0m \u001b[0;32min\u001b[0m \u001b[0mrange\u001b[0m\u001b[0;34m(\u001b[0m\u001b[0mn\u001b[0m\u001b[0;34m)\u001b[0m\u001b[0;34m:\u001b[0m\u001b[0;34m\u001b[0m\u001b[0;34m\u001b[0m\u001b[0m\n",
            "\u001b[1;32m      6 \u001b[0m    \u001b[0mpdb\u001b[0m\u001b[0;34m.\u001b[0m\u001b[0mset_trace\u001b[0m\u001b[0;34m(\u001b[0m\u001b[0;34m)\u001b[0m \u001b[0;31m#breakpoint\u001b[0m\u001b[0;34m\u001b[0m\u001b[0;34m\u001b[0m\u001b[0m\n",
            "\u001b[0;32m----> 7 \u001b[0;31m    \u001b[0mprint\u001b[0m\u001b[0;34m(\u001b[0m\u001b[0mi\u001b[0m\u001b[0;34m)\u001b[0m\u001b[0;34m\u001b[0m\u001b[0;34m\u001b[0m\u001b[0m\n",
            "\u001b[0m\u001b[1;32m      8 \u001b[0m  \u001b[0;32mreturn\u001b[0m\u001b[0;34m\u001b[0m\u001b[0;34m\u001b[0m\u001b[0m\n",
            "\u001b[1;32m      9 \u001b[0m\u001b[0mseq\u001b[0m\u001b[0;34m(\u001b[0m\u001b[0;36m10\u001b[0m\u001b[0;34m)\u001b[0m\u001b[0;34m\u001b[0m\u001b[0;34m\u001b[0m\u001b[0m\n",
            "\n",
            "ipdb> p i\n",
            "1\n",
            "ipdb> q\n"
          ]
        },
        {
          "output_type": "stream",
          "name": "stderr",
          "text": [
            "\n",
            "PYDEV DEBUGGER WARNING:\n",
            "sys.settrace() should not be used when the debugger is being used.\n",
            "This may cause the debugger to stop working correctly.\n",
            "If this is needed, please check: \n",
            "http://pydev.blogspot.com/2007/06/why-cant-pydev-debugger-work-with.html\n",
            "to see how to restore the debug tracing back correctly.\n",
            "Call Location:\n",
            "  File \"/usr/lib/python3.10/bdb.py\", line 361, in set_quit\n",
            "    sys.settrace(None)\n",
            "\n"
          ]
        }
      ]
    },
    {
      "cell_type": "code",
      "source": [
        "#c for continue\n",
        "#h for help\n",
        "#q for quit\n",
        "#list tells me where i am exactly at function execution\n",
        "#p:print to value\n",
        "#p locals()\n",
        "#p globals()\n",
        "dir(pdb)\n",
        "print(pdb.__doc__)"
      ],
      "metadata": {
        "colab": {
          "base_uri": "https://localhost:8080/"
        },
        "id": "38KhC1aHAMvn",
        "outputId": "58e3d2b8-706a-43cd-84d3-e378e8fda4f2"
      },
      "execution_count": 44,
      "outputs": [
        {
          "output_type": "stream",
          "name": "stdout",
          "text": [
            "['Pdb', 'Restart', 'TESTCMD', '__all__', '__annotations__', '__builtins__', '__cached__', '__doc__', '__file__', '__loader__', '__name__', '__package__', '__spec__', '_rstr', '_usage', 'bdb', 'cmd', 'code', 'dis', 'find_function', 'glob', 'help', 'inspect', 'io', 'lasti2lineno', 'line_prefix', 'linecache', 'main', 'os', 'pm', 'post_mortem', 'pprint', 're', 'run', 'runcall', 'runctx', 'runeval', 'set_trace', 'signal', 'sys', 'test', 'tokenize', 'traceback']\n",
            "\n",
            "The Python Debugger Pdb\n",
            "=======================\n",
            "\n",
            "To use the debugger in its simplest form:\n",
            "\n",
            "        >>> import pdb\n",
            "        >>> pdb.run('<a statement>')\n",
            "\n",
            "The debugger's prompt is '(Pdb) '.  This will stop in the first\n",
            "function call in <a statement>.\n",
            "\n",
            "Alternatively, if a statement terminated with an unhandled exception,\n",
            "you can use pdb's post-mortem facility to inspect the contents of the\n",
            "traceback:\n",
            "\n",
            "        >>> <a statement>\n",
            "        <exception traceback>\n",
            "        >>> import pdb\n",
            "        >>> pdb.pm()\n",
            "\n",
            "The commands recognized by the debugger are listed in the next\n",
            "section.  Most can be abbreviated as indicated; e.g., h(elp) means\n",
            "that 'help' can be typed as 'h' or 'help' (but not as 'he' or 'hel',\n",
            "nor as 'H' or 'Help' or 'HELP').  Optional arguments are enclosed in\n",
            "square brackets.  Alternatives in the command syntax are separated\n",
            "by a vertical bar (|).\n",
            "\n",
            "A blank line repeats the previous command literally, except for\n",
            "'list', where it lists the next 11 lines.\n",
            "\n",
            "Commands that the debugger doesn't recognize are assumed to be Python\n",
            "statements and are executed in the context of the program being\n",
            "debugged.  Python statements can also be prefixed with an exclamation\n",
            "point ('!').  This is a powerful way to inspect the program being\n",
            "debugged; it is even possible to change variables or call functions.\n",
            "When an exception occurs in such a statement, the exception name is\n",
            "printed but the debugger's state is not changed.\n",
            "\n",
            "The debugger supports aliases, which can save typing.  And aliases can\n",
            "have parameters (see the alias help entry) which allows one a certain\n",
            "level of adaptability to the context under examination.\n",
            "\n",
            "Multiple commands may be entered on a single line, separated by the\n",
            "pair ';;'.  No intelligence is applied to separating the commands; the\n",
            "input is split at the first ';;', even if it is in the middle of a\n",
            "quoted string.\n",
            "\n",
            "If a file \".pdbrc\" exists in your home directory or in the current\n",
            "directory, it is read in and executed as if it had been typed at the\n",
            "debugger prompt.  This is particularly useful for aliases.  If both\n",
            "files exist, the one in the home directory is read first and aliases\n",
            "defined there can be overridden by the local file.  This behavior can be\n",
            "disabled by passing the \"readrc=False\" argument to the Pdb constructor.\n",
            "\n",
            "Aside from aliases, the debugger is not directly programmable; but it\n",
            "is implemented as a class from which you can derive your own debugger\n",
            "class, which you can make as fancy as you like.\n",
            "\n",
            "\n",
            "Debugger commands\n",
            "=================\n",
            "\n",
            "h(elp)\n",
            "        Without argument, print the list of available commands.\n",
            "        With a command name as argument, print help about that command.\n",
            "        \"help pdb\" shows the full pdb documentation.\n",
            "        \"help exec\" gives help on the ! command.\n",
            "\n",
            "w(here)\n",
            "        Print a stack trace, with the most recent frame at the bottom.\n",
            "        An arrow indicates the \"current frame\", which determines the\n",
            "        context of most commands.  'bt' is an alias for this command.\n",
            "\n",
            "d(own) [count]\n",
            "        Move the current frame count (default one) levels down in the\n",
            "        stack trace (to a newer frame).\n",
            "\n",
            "u(p) [count]\n",
            "        Move the current frame count (default one) levels up in the\n",
            "        stack trace (to an older frame).\n",
            "\n",
            "b(reak) [ ([filename:]lineno | function) [, condition] ]\n",
            "        Without argument, list all breaks.\n",
            "\n",
            "        With a line number argument, set a break at this line in the\n",
            "        current file.  With a function name, set a break at the first\n",
            "        executable line of that function.  If a second argument is\n",
            "        present, it is a string specifying an expression which must\n",
            "        evaluate to true before the breakpoint is honored.\n",
            "\n",
            "        The line number may be prefixed with a filename and a colon,\n",
            "        to specify a breakpoint in another file (probably one that\n",
            "        hasn't been loaded yet).  The file is searched for on\n",
            "        sys.path; the .py suffix may be omitted.\n",
            "\n",
            "tbreak [ ([filename:]lineno | function) [, condition] ]\n",
            "        Same arguments as break, but sets a temporary breakpoint: it\n",
            "        is automatically deleted when first hit.\n",
            "\n",
            "cl(ear) filename:lineno\n",
            "cl(ear) [bpnumber [bpnumber...]]\n",
            "        With a space separated list of breakpoint numbers, clear\n",
            "        those breakpoints.  Without argument, clear all breaks (but\n",
            "        first ask confirmation).  With a filename:lineno argument,\n",
            "        clear all breaks at that line in that file.\n",
            "\n",
            "disable bpnumber [bpnumber ...]\n",
            "        Disables the breakpoints given as a space separated list of\n",
            "        breakpoint numbers.  Disabling a breakpoint means it cannot\n",
            "        cause the program to stop execution, but unlike clearing a\n",
            "        breakpoint, it remains in the list of breakpoints and can be\n",
            "        (re-)enabled.\n",
            "\n",
            "enable bpnumber [bpnumber ...]\n",
            "        Enables the breakpoints given as a space separated list of\n",
            "        breakpoint numbers.\n",
            "\n",
            "ignore bpnumber [count]\n",
            "        Set the ignore count for the given breakpoint number.  If\n",
            "        count is omitted, the ignore count is set to 0.  A breakpoint\n",
            "        becomes active when the ignore count is zero.  When non-zero,\n",
            "        the count is decremented each time the breakpoint is reached\n",
            "        and the breakpoint is not disabled and any associated\n",
            "        condition evaluates to true.\n",
            "\n",
            "condition bpnumber [condition]\n",
            "        Set a new condition for the breakpoint, an expression which\n",
            "        must evaluate to true before the breakpoint is honored.  If\n",
            "        condition is absent, any existing condition is removed; i.e.,\n",
            "        the breakpoint is made unconditional.\n",
            "\n",
            "commands [bpnumber]\n",
            "        (com) ...\n",
            "        (com) end\n",
            "        (Pdb)\n",
            "\n",
            "        Specify a list of commands for breakpoint number bpnumber.\n",
            "        The commands themselves are entered on the following lines.\n",
            "        Type a line containing just 'end' to terminate the commands.\n",
            "        The commands are executed when the breakpoint is hit.\n",
            "\n",
            "        To remove all commands from a breakpoint, type commands and\n",
            "        follow it immediately with end; that is, give no commands.\n",
            "\n",
            "        With no bpnumber argument, commands refers to the last\n",
            "        breakpoint set.\n",
            "\n",
            "        You can use breakpoint commands to start your program up\n",
            "        again.  Simply use the continue command, or step, or any other\n",
            "        command that resumes execution.\n",
            "\n",
            "        Specifying any command resuming execution (currently continue,\n",
            "        step, next, return, jump, quit and their abbreviations)\n",
            "        terminates the command list (as if that command was\n",
            "        immediately followed by end).  This is because any time you\n",
            "        resume execution (even with a simple next or step), you may\n",
            "        encounter another breakpoint -- which could have its own\n",
            "        command list, leading to ambiguities about which list to\n",
            "        execute.\n",
            "\n",
            "        If you use the 'silent' command in the command list, the usual\n",
            "        message about stopping at a breakpoint is not printed.  This\n",
            "        may be desirable for breakpoints that are to print a specific\n",
            "        message and then continue.  If none of the other commands\n",
            "        print anything, you will see no sign that the breakpoint was\n",
            "        reached.\n",
            "\n",
            "s(tep)\n",
            "        Execute the current line, stop at the first possible occasion\n",
            "        (either in a function that is called or in the current\n",
            "        function).\n",
            "\n",
            "n(ext)\n",
            "        Continue execution until the next line in the current function\n",
            "        is reached or it returns.\n",
            "\n",
            "unt(il) [lineno]\n",
            "        Without argument, continue execution until the line with a\n",
            "        number greater than the current one is reached.  With a line\n",
            "        number, continue execution until a line with a number greater\n",
            "        or equal to that is reached.  In both cases, also stop when\n",
            "        the current frame returns.\n",
            "\n",
            "j(ump) lineno\n",
            "        Set the next line that will be executed.  Only available in\n",
            "        the bottom-most frame.  This lets you jump back and execute\n",
            "        code again, or jump forward to skip code that you don't want\n",
            "        to run.\n",
            "\n",
            "        It should be noted that not all jumps are allowed -- for\n",
            "        instance it is not possible to jump into the middle of a\n",
            "        for loop or out of a finally clause.\n",
            "\n",
            "r(eturn)\n",
            "        Continue execution until the current function returns.\n",
            "\n",
            "retval\n",
            "        Print the return value for the last return of a function.\n",
            "\n",
            "run [args...]\n",
            "        Restart the debugged python program. If a string is supplied\n",
            "        it is split with \"shlex\", and the result is used as the new\n",
            "        sys.argv.  History, breakpoints, actions and debugger options\n",
            "        are preserved.  \"restart\" is an alias for \"run\".\n",
            "\n",
            "c(ont(inue))\n",
            "        Continue execution, only stop when a breakpoint is encountered.\n",
            "\n",
            "l(ist) [first [,last] | .]\n",
            "\n",
            "        List source code for the current file.  Without arguments,\n",
            "        list 11 lines around the current line or continue the previous\n",
            "        listing.  With . as argument, list 11 lines around the current\n",
            "        line.  With one argument, list 11 lines starting at that line.\n",
            "        With two arguments, list the given range; if the second\n",
            "        argument is less than the first, it is a count.\n",
            "\n",
            "        The current line in the current frame is indicated by \"->\".\n",
            "        If an exception is being debugged, the line where the\n",
            "        exception was originally raised or propagated is indicated by\n",
            "        \">>\", if it differs from the current line.\n",
            "\n",
            "longlist | ll\n",
            "        List the whole source code for the current function or frame.\n",
            "\n",
            "a(rgs)\n",
            "        Print the argument list of the current function.\n",
            "\n",
            "p expression\n",
            "        Print the value of the expression.\n",
            "\n",
            "pp expression\n",
            "        Pretty-print the value of the expression.\n",
            "\n",
            "whatis arg\n",
            "        Print the type of the argument.\n",
            "\n",
            "source expression\n",
            "        Try to get source code for the given object and display it.\n",
            "\n",
            "display [expression]\n",
            "\n",
            "        Display the value of the expression if it changed, each time execution\n",
            "        stops in the current frame.\n",
            "\n",
            "        Without expression, list all display expressions for the current frame.\n",
            "\n",
            "undisplay [expression]\n",
            "\n",
            "        Do not display the expression any more in the current frame.\n",
            "\n",
            "        Without expression, clear all display expressions for the current frame.\n",
            "\n",
            "interact\n",
            "\n",
            "        Start an interactive interpreter whose global namespace\n",
            "        contains all the (global and local) names found in the current scope.\n",
            "\n",
            "alias [name [command [parameter parameter ...] ]]\n",
            "        Create an alias called 'name' that executes 'command'.  The\n",
            "        command must *not* be enclosed in quotes.  Replaceable\n",
            "        parameters can be indicated by %1, %2, and so on, while %* is\n",
            "        replaced by all the parameters.  If no command is given, the\n",
            "        current alias for name is shown. If no name is given, all\n",
            "        aliases are listed.\n",
            "\n",
            "        Aliases may be nested and can contain anything that can be\n",
            "        legally typed at the pdb prompt.  Note!  You *can* override\n",
            "        internal pdb commands with aliases!  Those internal commands\n",
            "        are then hidden until the alias is removed.  Aliasing is\n",
            "        recursively applied to the first word of the command line; all\n",
            "        other words in the line are left alone.\n",
            "\n",
            "        As an example, here are two useful aliases (especially when\n",
            "        placed in the .pdbrc file):\n",
            "\n",
            "        # Print instance variables (usage \"pi classInst\")\n",
            "        alias pi for k in %1.__dict__.keys(): print(\"%1.\",k,\"=\",%1.__dict__[k])\n",
            "        # Print instance variables in self\n",
            "        alias ps pi self\n",
            "\n",
            "unalias name\n",
            "        Delete the specified alias.\n",
            "\n",
            "debug code\n",
            "        Enter a recursive debugger that steps through the code\n",
            "        argument (which is an arbitrary expression or statement to be\n",
            "        executed in the current environment).\n",
            "\n",
            "q(uit)\n",
            "exit\n",
            "        Quit from the debugger. The program being executed is aborted.\n",
            "\n",
            "(!) statement\n",
            "        Execute the (one-line) statement in the context of the current\n",
            "        stack frame.  The exclamation point can be omitted unless the\n",
            "        first word of the statement resembles a debugger command.  To\n",
            "        assign to a global variable you must always prefix the command\n",
            "        with a 'global' command, e.g.:\n",
            "        (Pdb) global list_options; list_options = ['-l']\n",
            "        (Pdb)\n",
            "        \n"
          ]
        }
      ]
    },
    {
      "cell_type": "code",
      "source": [],
      "metadata": {
        "id": "DWa0AtYCA_zb"
      },
      "execution_count": null,
      "outputs": []
    }
  ]
}